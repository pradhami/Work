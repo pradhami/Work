{
 "cells": [
  {
   "cell_type": "code",
   "execution_count": 1,
   "metadata": {},
   "outputs": [],
   "source": [
    "import pandas as pd \n",
    "import numpy as np\n",
    "import seaborn as sns \n",
    "import matplotlib.pyplot as plt \n",
    "import warnings\n",
    "warnings.filterwarnings(\"ignore\")"
   ]
  },
  {
   "cell_type": "code",
   "execution_count": 2,
   "metadata": {},
   "outputs": [],
   "source": [
    "train_df = pd.read_csv('loan_data_train.csv')\n",
    "test_df = pd.read_csv('loan_data_test.csv')"
   ]
  },
  {
   "cell_type": "code",
   "execution_count": 3,
   "metadata": {},
   "outputs": [
    {
     "data": {
      "text/html": [
       "<div>\n",
       "<style scoped>\n",
       "    .dataframe tbody tr th:only-of-type {\n",
       "        vertical-align: middle;\n",
       "    }\n",
       "\n",
       "    .dataframe tbody tr th {\n",
       "        vertical-align: top;\n",
       "    }\n",
       "\n",
       "    .dataframe thead th {\n",
       "        text-align: right;\n",
       "    }\n",
       "</style>\n",
       "<table border=\"1\" class=\"dataframe\">\n",
       "  <thead>\n",
       "    <tr style=\"text-align: right;\">\n",
       "      <th></th>\n",
       "      <th>ID</th>\n",
       "      <th>Amount.Requested</th>\n",
       "      <th>Amount.Funded.By.Investors</th>\n",
       "      <th>Interest.Rate</th>\n",
       "      <th>Loan.Length</th>\n",
       "      <th>Loan.Purpose</th>\n",
       "      <th>Debt.To.Income.Ratio</th>\n",
       "      <th>State</th>\n",
       "      <th>Home.Ownership</th>\n",
       "      <th>Monthly.Income</th>\n",
       "      <th>FICO.Range</th>\n",
       "      <th>Open.CREDIT.Lines</th>\n",
       "      <th>Revolving.CREDIT.Balance</th>\n",
       "      <th>Inquiries.in.the.Last.6.Months</th>\n",
       "      <th>Employment.Length</th>\n",
       "    </tr>\n",
       "  </thead>\n",
       "  <tbody>\n",
       "    <tr>\n",
       "      <th>0</th>\n",
       "      <td>79542.0</td>\n",
       "      <td>25000</td>\n",
       "      <td>25000</td>\n",
       "      <td>18.49%</td>\n",
       "      <td>60 months</td>\n",
       "      <td>debt_consolidation</td>\n",
       "      <td>27.56%</td>\n",
       "      <td>VA</td>\n",
       "      <td>MORTGAGE</td>\n",
       "      <td>8606.56</td>\n",
       "      <td>720-724</td>\n",
       "      <td>11</td>\n",
       "      <td>15210</td>\n",
       "      <td>3.0</td>\n",
       "      <td>5 years</td>\n",
       "    </tr>\n",
       "    <tr>\n",
       "      <th>1</th>\n",
       "      <td>75473.0</td>\n",
       "      <td>19750</td>\n",
       "      <td>19750</td>\n",
       "      <td>17.27%</td>\n",
       "      <td>60 months</td>\n",
       "      <td>debt_consolidation</td>\n",
       "      <td>13.39%</td>\n",
       "      <td>NY</td>\n",
       "      <td>MORTGAGE</td>\n",
       "      <td>6737.50</td>\n",
       "      <td>710-714</td>\n",
       "      <td>14</td>\n",
       "      <td>19070</td>\n",
       "      <td>3.0</td>\n",
       "      <td>4 years</td>\n",
       "    </tr>\n",
       "    <tr>\n",
       "      <th>2</th>\n",
       "      <td>67265.0</td>\n",
       "      <td>2100</td>\n",
       "      <td>2100</td>\n",
       "      <td>14.33%</td>\n",
       "      <td>36 months</td>\n",
       "      <td>major_purchase</td>\n",
       "      <td>3.50%</td>\n",
       "      <td>LA</td>\n",
       "      <td>OWN</td>\n",
       "      <td>1000.00</td>\n",
       "      <td>690-694</td>\n",
       "      <td>13</td>\n",
       "      <td>893</td>\n",
       "      <td>1.0</td>\n",
       "      <td>&lt; 1 year</td>\n",
       "    </tr>\n",
       "    <tr>\n",
       "      <th>3</th>\n",
       "      <td>80167.0</td>\n",
       "      <td>28000</td>\n",
       "      <td>28000</td>\n",
       "      <td>16.29%</td>\n",
       "      <td>36 months</td>\n",
       "      <td>credit_card</td>\n",
       "      <td>19.62%</td>\n",
       "      <td>NV</td>\n",
       "      <td>MORTGAGE</td>\n",
       "      <td>7083.33</td>\n",
       "      <td>710-714</td>\n",
       "      <td>12</td>\n",
       "      <td>38194</td>\n",
       "      <td>1.0</td>\n",
       "      <td>10+ years</td>\n",
       "    </tr>\n",
       "    <tr>\n",
       "      <th>4</th>\n",
       "      <td>17240.0</td>\n",
       "      <td>24250</td>\n",
       "      <td>17431.82</td>\n",
       "      <td>12.23%</td>\n",
       "      <td>60 months</td>\n",
       "      <td>credit_card</td>\n",
       "      <td>23.79%</td>\n",
       "      <td>OH</td>\n",
       "      <td>MORTGAGE</td>\n",
       "      <td>5833.33</td>\n",
       "      <td>730-734</td>\n",
       "      <td>6</td>\n",
       "      <td>31061</td>\n",
       "      <td>2.0</td>\n",
       "      <td>10+ years</td>\n",
       "    </tr>\n",
       "  </tbody>\n",
       "</table>\n",
       "</div>"
      ],
      "text/plain": [
       "        ID Amount.Requested Amount.Funded.By.Investors Interest.Rate  \\\n",
       "0  79542.0            25000                      25000        18.49%   \n",
       "1  75473.0            19750                      19750        17.27%   \n",
       "2  67265.0             2100                       2100        14.33%   \n",
       "3  80167.0            28000                      28000        16.29%   \n",
       "4  17240.0            24250                   17431.82        12.23%   \n",
       "\n",
       "  Loan.Length        Loan.Purpose Debt.To.Income.Ratio State Home.Ownership  \\\n",
       "0   60 months  debt_consolidation               27.56%    VA       MORTGAGE   \n",
       "1   60 months  debt_consolidation               13.39%    NY       MORTGAGE   \n",
       "2   36 months      major_purchase                3.50%    LA            OWN   \n",
       "3   36 months         credit_card               19.62%    NV       MORTGAGE   \n",
       "4   60 months         credit_card               23.79%    OH       MORTGAGE   \n",
       "\n",
       "   Monthly.Income FICO.Range Open.CREDIT.Lines Revolving.CREDIT.Balance  \\\n",
       "0         8606.56    720-724                11                    15210   \n",
       "1         6737.50    710-714                14                    19070   \n",
       "2         1000.00    690-694                13                      893   \n",
       "3         7083.33    710-714                12                    38194   \n",
       "4         5833.33    730-734                 6                    31061   \n",
       "\n",
       "   Inquiries.in.the.Last.6.Months Employment.Length  \n",
       "0                             3.0           5 years  \n",
       "1                             3.0           4 years  \n",
       "2                             1.0          < 1 year  \n",
       "3                             1.0         10+ years  \n",
       "4                             2.0         10+ years  "
      ]
     },
     "execution_count": 3,
     "metadata": {},
     "output_type": "execute_result"
    }
   ],
   "source": [
    "train_df.head()"
   ]
  },
  {
   "cell_type": "code",
   "execution_count": 4,
   "metadata": {},
   "outputs": [
    {
     "data": {
      "text/html": [
       "<div>\n",
       "<style scoped>\n",
       "    .dataframe tbody tr th:only-of-type {\n",
       "        vertical-align: middle;\n",
       "    }\n",
       "\n",
       "    .dataframe tbody tr th {\n",
       "        vertical-align: top;\n",
       "    }\n",
       "\n",
       "    .dataframe thead th {\n",
       "        text-align: right;\n",
       "    }\n",
       "</style>\n",
       "<table border=\"1\" class=\"dataframe\">\n",
       "  <thead>\n",
       "    <tr style=\"text-align: right;\">\n",
       "      <th></th>\n",
       "      <th>ID</th>\n",
       "      <th>Amount.Requested</th>\n",
       "      <th>Amount.Funded.By.Investors</th>\n",
       "      <th>Loan.Length</th>\n",
       "      <th>Loan.Purpose</th>\n",
       "      <th>Debt.To.Income.Ratio</th>\n",
       "      <th>State</th>\n",
       "      <th>Home.Ownership</th>\n",
       "      <th>Monthly.Income</th>\n",
       "      <th>FICO.Range</th>\n",
       "      <th>Open.CREDIT.Lines</th>\n",
       "      <th>Revolving.CREDIT.Balance</th>\n",
       "      <th>Inquiries.in.the.Last.6.Months</th>\n",
       "      <th>Employment.Length</th>\n",
       "    </tr>\n",
       "  </thead>\n",
       "  <tbody>\n",
       "    <tr>\n",
       "      <th>0</th>\n",
       "      <td>20093</td>\n",
       "      <td>5000</td>\n",
       "      <td>5000</td>\n",
       "      <td>60 months</td>\n",
       "      <td>moving</td>\n",
       "      <td>12.59%</td>\n",
       "      <td>NY</td>\n",
       "      <td>RENT</td>\n",
       "      <td>4416.67</td>\n",
       "      <td>690-694</td>\n",
       "      <td>13</td>\n",
       "      <td>7686</td>\n",
       "      <td>0</td>\n",
       "      <td>&lt; 1 year</td>\n",
       "    </tr>\n",
       "    <tr>\n",
       "      <th>1</th>\n",
       "      <td>62445</td>\n",
       "      <td>18000</td>\n",
       "      <td>18000</td>\n",
       "      <td>60 months</td>\n",
       "      <td>debt_consolidation</td>\n",
       "      <td>4.93%</td>\n",
       "      <td>CA</td>\n",
       "      <td>RENT</td>\n",
       "      <td>5258.50</td>\n",
       "      <td>710-714</td>\n",
       "      <td>6</td>\n",
       "      <td>11596</td>\n",
       "      <td>0</td>\n",
       "      <td>10+ years</td>\n",
       "    </tr>\n",
       "    <tr>\n",
       "      <th>2</th>\n",
       "      <td>65248</td>\n",
       "      <td>7200</td>\n",
       "      <td>7200</td>\n",
       "      <td>60 months</td>\n",
       "      <td>debt_consolidation</td>\n",
       "      <td>25.16%</td>\n",
       "      <td>LA</td>\n",
       "      <td>MORTGAGE</td>\n",
       "      <td>3750.00</td>\n",
       "      <td>750-754</td>\n",
       "      <td>13</td>\n",
       "      <td>7283</td>\n",
       "      <td>0</td>\n",
       "      <td>6 years</td>\n",
       "    </tr>\n",
       "    <tr>\n",
       "      <th>3</th>\n",
       "      <td>81822</td>\n",
       "      <td>7200</td>\n",
       "      <td>7200</td>\n",
       "      <td>36 months</td>\n",
       "      <td>debt_consolidation</td>\n",
       "      <td>17.27%</td>\n",
       "      <td>NY</td>\n",
       "      <td>MORTGAGE</td>\n",
       "      <td>3416.67</td>\n",
       "      <td>790-794</td>\n",
       "      <td>14</td>\n",
       "      <td>4838</td>\n",
       "      <td>0</td>\n",
       "      <td>10+ years</td>\n",
       "    </tr>\n",
       "    <tr>\n",
       "      <th>4</th>\n",
       "      <td>57923</td>\n",
       "      <td>22000</td>\n",
       "      <td>22000</td>\n",
       "      <td>60 months</td>\n",
       "      <td>debt_consolidation</td>\n",
       "      <td>18.28%</td>\n",
       "      <td>MI</td>\n",
       "      <td>MORTGAGE</td>\n",
       "      <td>6083.33</td>\n",
       "      <td>720-724</td>\n",
       "      <td>9</td>\n",
       "      <td>20181</td>\n",
       "      <td>0</td>\n",
       "      <td>8 years</td>\n",
       "    </tr>\n",
       "  </tbody>\n",
       "</table>\n",
       "</div>"
      ],
      "text/plain": [
       "      ID  Amount.Requested Amount.Funded.By.Investors Loan.Length  \\\n",
       "0  20093              5000                       5000   60 months   \n",
       "1  62445             18000                      18000   60 months   \n",
       "2  65248              7200                       7200   60 months   \n",
       "3  81822              7200                       7200   36 months   \n",
       "4  57923             22000                      22000   60 months   \n",
       "\n",
       "         Loan.Purpose Debt.To.Income.Ratio State Home.Ownership  \\\n",
       "0              moving               12.59%    NY           RENT   \n",
       "1  debt_consolidation                4.93%    CA           RENT   \n",
       "2  debt_consolidation               25.16%    LA       MORTGAGE   \n",
       "3  debt_consolidation               17.27%    NY       MORTGAGE   \n",
       "4  debt_consolidation               18.28%    MI       MORTGAGE   \n",
       "\n",
       "   Monthly.Income FICO.Range Open.CREDIT.Lines  Revolving.CREDIT.Balance  \\\n",
       "0         4416.67    690-694                13                      7686   \n",
       "1         5258.50    710-714                 6                     11596   \n",
       "2         3750.00    750-754                13                      7283   \n",
       "3         3416.67    790-794                14                      4838   \n",
       "4         6083.33    720-724                 9                     20181   \n",
       "\n",
       "   Inquiries.in.the.Last.6.Months Employment.Length  \n",
       "0                               0          < 1 year  \n",
       "1                               0         10+ years  \n",
       "2                               0           6 years  \n",
       "3                               0         10+ years  \n",
       "4                               0           8 years  "
      ]
     },
     "execution_count": 4,
     "metadata": {},
     "output_type": "execute_result"
    }
   ],
   "source": [
    "test_df.head()"
   ]
  },
  {
   "cell_type": "code",
   "execution_count": 5,
   "metadata": {},
   "outputs": [
    {
     "data": {
      "text/plain": [
       "((2200, 15), (300, 14))"
      ]
     },
     "execution_count": 5,
     "metadata": {},
     "output_type": "execute_result"
    }
   ],
   "source": [
    "train_df.shape, test_df.shape"
   ]
  },
  {
   "cell_type": "code",
   "execution_count": 6,
   "metadata": {},
   "outputs": [],
   "source": [
    "# # Concat both data frames so that same preprocessing can be done\n",
    "# train_target = train_df['Interest.Rate']\n",
    "# train_df.drop('Interest.Rate',inplace= True, axis = 1)"
   ]
  },
  {
   "cell_type": "code",
   "execution_count": 7,
   "metadata": {},
   "outputs": [],
   "source": [
    "# train_df.shape, test_df.shape"
   ]
  },
  {
   "cell_type": "code",
   "execution_count": 8,
   "metadata": {},
   "outputs": [],
   "source": [
    "test_df['Interest.Rate'] = 'unknown'"
   ]
  },
  {
   "cell_type": "code",
   "execution_count": 9,
   "metadata": {},
   "outputs": [],
   "source": [
    "# Creating new column type to identify the train and test set\n",
    "train_df['type'] = 'train'\n",
    "test_df['type'] = 'test'"
   ]
  },
  {
   "cell_type": "code",
   "execution_count": 10,
   "metadata": {},
   "outputs": [
    {
     "data": {
      "text/plain": [
       "(2500, 16)"
      ]
     },
     "execution_count": 10,
     "metadata": {},
     "output_type": "execute_result"
    }
   ],
   "source": [
    "# Cobining bor the data set\n",
    "df_all = pd.concat([train_df,test_df],axis = 0)\n",
    "df_all.shape"
   ]
  },
  {
   "cell_type": "code",
   "execution_count": 11,
   "metadata": {},
   "outputs": [
    {
     "data": {
      "text/plain": [
       "ID                                float64\n",
       "Amount.Requested                   object\n",
       "Amount.Funded.By.Investors         object\n",
       "Interest.Rate                      object\n",
       "Loan.Length                        object\n",
       "Loan.Purpose                       object\n",
       "Debt.To.Income.Ratio               object\n",
       "State                              object\n",
       "Home.Ownership                     object\n",
       "Monthly.Income                    float64\n",
       "FICO.Range                         object\n",
       "Open.CREDIT.Lines                  object\n",
       "Revolving.CREDIT.Balance           object\n",
       "Inquiries.in.the.Last.6.Months    float64\n",
       "Employment.Length                  object\n",
       "type                               object\n",
       "dtype: object"
      ]
     },
     "execution_count": 11,
     "metadata": {},
     "output_type": "execute_result"
    }
   ],
   "source": [
    "df_all.dtypes"
   ]
  },
  {
   "cell_type": "code",
   "execution_count": 12,
   "metadata": {},
   "outputs": [
    {
     "data": {
      "text/plain": [
       "Employment.Length                 78\n",
       "Open.CREDIT.Lines                  4\n",
       "Inquiries.in.the.Last.6.Months     3\n",
       "Revolving.CREDIT.Balance           3\n",
       "Monthly.Income                     3\n",
       "Home.Ownership                     1\n",
       "State                              1\n",
       "Debt.To.Income.Ratio               1\n",
       "Loan.Purpose                       1\n",
       "Loan.Length                        1\n",
       "Amount.Funded.By.Investors         1\n",
       "Amount.Requested                   1\n",
       "ID                                 1\n",
       "type                               0\n",
       "FICO.Range                         0\n",
       "Interest.Rate                      0\n",
       "dtype: int64"
      ]
     },
     "execution_count": 12,
     "metadata": {},
     "output_type": "execute_result"
    }
   ],
   "source": [
    "# Check for null values\n",
    "\n",
    "df_all.isna().sum().sort_values(ascending=False)"
   ]
  },
  {
   "cell_type": "code",
   "execution_count": 13,
   "metadata": {},
   "outputs": [
    {
     "data": {
      "text/plain": [
       "array(['VA', 'NY', 'LA', 'NV', 'OH', 'CA', 'IL', 'NC', 'NJ', 'WA', 'CT',\n",
       "       'AK', 'CO', 'MA', 'TX', 'VT', 'OK', 'FL', 'NH', 'GA', 'MN', 'MD',\n",
       "       'WY', 'PA', 'AL', 'AZ', 'SC', 'MI', 'OR', 'RI', 'NM', 'MO', 'WI',\n",
       "       'KY', 'UT', 'AR', 'WV', 'DE', 'MT', 'KS', 'DC', 'SD', 'HI', 'IN',\n",
       "       'MS', nan, '.', 'IA'], dtype=object)"
      ]
     },
     "execution_count": 13,
     "metadata": {},
     "output_type": "execute_result"
    }
   ],
   "source": [
    "df_all['State'].unique()"
   ]
  },
  {
   "cell_type": "markdown",
   "metadata": {},
   "source": [
    "#### Insights\n",
    "- We can drop ID column\n",
    "- Below columns are supposed to be numeric type. Need to investigate why they are object type and then convert to numeric.\n",
    "    - Amount.Requested\n",
    "    - Amount.Funded.By.Investors\n",
    "    - Loan.Length \n",
    "    - Debt.To.Income.Ratio\n",
    "    - Open.CREDIT.Lines\n",
    "    - Revolving.CREDIT.Balance\n",
    "    - Employment.Length  "
   ]
  },
  {
   "cell_type": "code",
   "execution_count": 14,
   "metadata": {},
   "outputs": [],
   "source": [
    "df_all.drop('ID', inplace = True, axis = 1)"
   ]
  },
  {
   "cell_type": "code",
   "execution_count": 15,
   "metadata": {},
   "outputs": [
    {
     "data": {
      "text/html": [
       "<div>\n",
       "<style scoped>\n",
       "    .dataframe tbody tr th:only-of-type {\n",
       "        vertical-align: middle;\n",
       "    }\n",
       "\n",
       "    .dataframe tbody tr th {\n",
       "        vertical-align: top;\n",
       "    }\n",
       "\n",
       "    .dataframe thead th {\n",
       "        text-align: right;\n",
       "    }\n",
       "</style>\n",
       "<table border=\"1\" class=\"dataframe\">\n",
       "  <thead>\n",
       "    <tr style=\"text-align: right;\">\n",
       "      <th></th>\n",
       "      <th>Amount.Requested</th>\n",
       "      <th>Amount.Funded.By.Investors</th>\n",
       "      <th>Interest.Rate</th>\n",
       "      <th>Loan.Length</th>\n",
       "      <th>Loan.Purpose</th>\n",
       "      <th>Debt.To.Income.Ratio</th>\n",
       "      <th>State</th>\n",
       "      <th>Home.Ownership</th>\n",
       "      <th>Monthly.Income</th>\n",
       "      <th>FICO.Range</th>\n",
       "      <th>Open.CREDIT.Lines</th>\n",
       "      <th>Revolving.CREDIT.Balance</th>\n",
       "      <th>Inquiries.in.the.Last.6.Months</th>\n",
       "      <th>Employment.Length</th>\n",
       "      <th>type</th>\n",
       "    </tr>\n",
       "  </thead>\n",
       "  <tbody>\n",
       "    <tr>\n",
       "      <th>0</th>\n",
       "      <td>25000</td>\n",
       "      <td>25000</td>\n",
       "      <td>18.49%</td>\n",
       "      <td>60 months</td>\n",
       "      <td>debt_consolidation</td>\n",
       "      <td>27.56%</td>\n",
       "      <td>VA</td>\n",
       "      <td>MORTGAGE</td>\n",
       "      <td>8606.56</td>\n",
       "      <td>720-724</td>\n",
       "      <td>11</td>\n",
       "      <td>15210</td>\n",
       "      <td>3.0</td>\n",
       "      <td>5 years</td>\n",
       "      <td>train</td>\n",
       "    </tr>\n",
       "    <tr>\n",
       "      <th>1</th>\n",
       "      <td>19750</td>\n",
       "      <td>19750</td>\n",
       "      <td>17.27%</td>\n",
       "      <td>60 months</td>\n",
       "      <td>debt_consolidation</td>\n",
       "      <td>13.39%</td>\n",
       "      <td>NY</td>\n",
       "      <td>MORTGAGE</td>\n",
       "      <td>6737.50</td>\n",
       "      <td>710-714</td>\n",
       "      <td>14</td>\n",
       "      <td>19070</td>\n",
       "      <td>3.0</td>\n",
       "      <td>4 years</td>\n",
       "      <td>train</td>\n",
       "    </tr>\n",
       "    <tr>\n",
       "      <th>2</th>\n",
       "      <td>2100</td>\n",
       "      <td>2100</td>\n",
       "      <td>14.33%</td>\n",
       "      <td>36 months</td>\n",
       "      <td>major_purchase</td>\n",
       "      <td>3.50%</td>\n",
       "      <td>LA</td>\n",
       "      <td>OWN</td>\n",
       "      <td>1000.00</td>\n",
       "      <td>690-694</td>\n",
       "      <td>13</td>\n",
       "      <td>893</td>\n",
       "      <td>1.0</td>\n",
       "      <td>&lt; 1 year</td>\n",
       "      <td>train</td>\n",
       "    </tr>\n",
       "    <tr>\n",
       "      <th>3</th>\n",
       "      <td>28000</td>\n",
       "      <td>28000</td>\n",
       "      <td>16.29%</td>\n",
       "      <td>36 months</td>\n",
       "      <td>credit_card</td>\n",
       "      <td>19.62%</td>\n",
       "      <td>NV</td>\n",
       "      <td>MORTGAGE</td>\n",
       "      <td>7083.33</td>\n",
       "      <td>710-714</td>\n",
       "      <td>12</td>\n",
       "      <td>38194</td>\n",
       "      <td>1.0</td>\n",
       "      <td>10+ years</td>\n",
       "      <td>train</td>\n",
       "    </tr>\n",
       "    <tr>\n",
       "      <th>4</th>\n",
       "      <td>24250</td>\n",
       "      <td>17431.82</td>\n",
       "      <td>12.23%</td>\n",
       "      <td>60 months</td>\n",
       "      <td>credit_card</td>\n",
       "      <td>23.79%</td>\n",
       "      <td>OH</td>\n",
       "      <td>MORTGAGE</td>\n",
       "      <td>5833.33</td>\n",
       "      <td>730-734</td>\n",
       "      <td>6</td>\n",
       "      <td>31061</td>\n",
       "      <td>2.0</td>\n",
       "      <td>10+ years</td>\n",
       "      <td>train</td>\n",
       "    </tr>\n",
       "  </tbody>\n",
       "</table>\n",
       "</div>"
      ],
      "text/plain": [
       "  Amount.Requested Amount.Funded.By.Investors Interest.Rate Loan.Length  \\\n",
       "0            25000                      25000        18.49%   60 months   \n",
       "1            19750                      19750        17.27%   60 months   \n",
       "2             2100                       2100        14.33%   36 months   \n",
       "3            28000                      28000        16.29%   36 months   \n",
       "4            24250                   17431.82        12.23%   60 months   \n",
       "\n",
       "         Loan.Purpose Debt.To.Income.Ratio State Home.Ownership  \\\n",
       "0  debt_consolidation               27.56%    VA       MORTGAGE   \n",
       "1  debt_consolidation               13.39%    NY       MORTGAGE   \n",
       "2      major_purchase                3.50%    LA            OWN   \n",
       "3         credit_card               19.62%    NV       MORTGAGE   \n",
       "4         credit_card               23.79%    OH       MORTGAGE   \n",
       "\n",
       "   Monthly.Income FICO.Range Open.CREDIT.Lines Revolving.CREDIT.Balance  \\\n",
       "0         8606.56    720-724                11                    15210   \n",
       "1         6737.50    710-714                14                    19070   \n",
       "2         1000.00    690-694                13                      893   \n",
       "3         7083.33    710-714                12                    38194   \n",
       "4         5833.33    730-734                 6                    31061   \n",
       "\n",
       "   Inquiries.in.the.Last.6.Months Employment.Length   type  \n",
       "0                             3.0           5 years  train  \n",
       "1                             3.0           4 years  train  \n",
       "2                             1.0          < 1 year  train  \n",
       "3                             1.0         10+ years  train  \n",
       "4                             2.0         10+ years  train  "
      ]
     },
     "execution_count": 15,
     "metadata": {},
     "output_type": "execute_result"
    }
   ],
   "source": [
    "df_all.head()"
   ]
  },
  {
   "cell_type": "code",
   "execution_count": 16,
   "metadata": {},
   "outputs": [
    {
     "data": {
      "text/plain": [
       "array(['25000', '19750', '2100', '28000', '24250', '5400', '16000',\n",
       "       '6400', '24000', '8000', '9000', '13000', '10000', '3600', '7350',\n",
       "       '17000', '18825', '4200', '5000', '3700', '6625', '15000', '29175',\n",
       "       '6000', '22000', '18000', '12000', '6500', '4000', '7300', '19400',\n",
       "       '11625', '3000', '19000', '2500', '17350', '21000', '20000',\n",
       "       '1900', '23300', '8400', '1600', '7200', '15400', '7000', '20500',\n",
       "       '24375', '5875', '14000', '5500', '4800', '34500', '20950', '7500',\n",
       "       '14400', '14675', '24500', '35000', '11200', '30000', '3200',\n",
       "       '11700', '11500', '8500', '16500', '16550', '13250', '5200',\n",
       "       '2000', '4500', '20800', '8325', '6600', '7750', '19500', '27050',\n",
       "       '8800', '11000', '3500', '21200', '2650', '8575', '13200', '10750',\n",
       "       '5450', '2400', '15300', '17325', '19125', '19075', '5600',\n",
       "       '10400', '16450', '11325', '10050', '14725', '16750', '4325',\n",
       "       '10075', '10800', '23500', '6200', '2875', '27825', '12250',\n",
       "       '16800', '18775', '9500', '16350', '23000', '5075', '18650',\n",
       "       '7575', '15350', '27925', '28625', '12100', '10850', '11350',\n",
       "       '26500', '4950', '1000', '31300', '17975', '1500', '3625', '19050',\n",
       "       '15650', '4225', '18200', '10200', '.', '10500', '21250', '7125',\n",
       "       '9450', '2575', '4750', '11400', '25875', '12300', '6250', '11750',\n",
       "       '13025', '16300', '21725', '22250', '17500', '2200', '1550',\n",
       "       '11100', '27575', '22350', '18550', '5800', '17600', '31050',\n",
       "       '15800', '3225', '9750', '1200', '6775', '12500', '19725', '30075',\n",
       "       '5375', '19200', '5525', '7675', '5900', '26000', '13450', '9600',\n",
       "       '3800', '8700', '11875', '24400', '4550', '6075', '1700', '2800',\n",
       "       '14600', '29000', '24625', '13800', '18500', '22400', '4900',\n",
       "       '7800', '24925', '9250', '2250', '5300', '12725', '14775', '33600',\n",
       "       '31825', '19600', '24175', '27000', '28200', '6700', '25450',\n",
       "       '12800', '7550', '14825', '32000', '20125', '13600', '4700',\n",
       "       '6950', '6525', '12700', '2700', '10625', '15250', '17400',\n",
       "       '21700', '1775', '4825', '17300', '13075', '13500', '12375',\n",
       "       '5675', '28350', '15500', '10350', '3825', '7425', '1800', '5825',\n",
       "       '4575', '20675', '14500', '8875', '17200', '9525', '1950', '5750',\n",
       "       '11950', '23750', '9800', '3300', '9950', '9550', '31075', '31500',\n",
       "       '1125', '1750', '7100', '17625', '15175', '9100', '14075', '7900',\n",
       "       '5100', '16200', '5950', '30225', '15200', '10450', '6725', '1450',\n",
       "       '24575', '1400', '18225', '9425', '9325', '16075', '11575', '9200',\n",
       "       '7925', '17475', '10375', '13100', '5650', '7275', '25200', '6575',\n",
       "       '9050', '32400', '32550', '33500', '1625', '20375', '1675',\n",
       "       '18625', '6900', '6800', '9175', '7625', '8525', '23850', '8250',\n",
       "       '14100', '22750', '21850', '11600', '21600', '8600', '14750',\n",
       "       '16475', '14300', '33000', '5425', '18750', nan, '12825', '22500',\n",
       "       '3250', '12200', '13475', '4350', '25475', '7050', '8450', '14575',\n",
       "       '5175', '13750', '8475', '16950', '14475', '19800', '19425',\n",
       "       '14700', '20700', '15475', '11050', '5775', '7450', '7400',\n",
       "       '31000', '4600', '25800', '2225', '15875', '2350', '14550', '3725',\n",
       "       '3900', '4075', '25225', '16400', '32350', '23400', '18400',\n",
       "       '15575', '18800', '25975', '2075', '10550', '7325', '1875', '9700',\n",
       "       '11975', '13225', 5000, 18000, 7200, 22000, 6000, 9800, 3000,\n",
       "       17500, 25000, 9950, 10000, 4000, 9500, 6500, 20000, 5600, 33600,\n",
       "       16000, 6700, 12000, 7000, 11000, 6400, 5500, 35000, 9000, 27000,\n",
       "       4750, 12700, 18825, 17600, 19125, 19000, 3500, 13750, 8450, 24625,\n",
       "       30000, 24000, 15000, 14000, 21725, 7125, 2000, 8000, 8975, 6650,\n",
       "       17000, 4400, 17900, 6100, 24925, 3600, 12500, 10400, 21000, 3250,\n",
       "       3200, 4800, 5350, 2500, 7800, 8100, 20400, 4500, 4950, 5450, 11500,\n",
       "       21850, 4375, 12300, 17825, 8250, 11875, 4200, 2200, 7150, 14675,\n",
       "       10300, 12800, 23675, 7500, 13200, 15350, 9750, 17800, 9975, 23850,\n",
       "       5375, 15675, 14500, 18225, 16100, 4325, 11425, 13000, 9600, 7100,\n",
       "       4600, 16250, 5200, 14125, 15600, 6250, 30100, 5300, 23000, 16800,\n",
       "       4025, 3750, 3825, 24250, 14400, 15775, 1600, 1000, 13600],\n",
       "      dtype=object)"
      ]
     },
     "execution_count": 16,
     "metadata": {},
     "output_type": "execute_result"
    }
   ],
   "source": [
    "df_all['Amount.Requested'].unique()   # Seems there are combination of str and numeric values"
   ]
  },
  {
   "cell_type": "code",
   "execution_count": 17,
   "metadata": {},
   "outputs": [],
   "source": [
    "df_all['Amount.Requested'] = pd.to_numeric(df_all['Amount.Requested'],errors = 'coerce')"
   ]
  },
  {
   "cell_type": "code",
   "execution_count": 18,
   "metadata": {},
   "outputs": [
    {
     "data": {
      "text/plain": [
       "dtype('float64')"
      ]
     },
     "execution_count": 18,
     "metadata": {},
     "output_type": "execute_result"
    }
   ],
   "source": [
    "df_all['Amount.Requested'].dtypes"
   ]
  },
  {
   "cell_type": "code",
   "execution_count": 19,
   "metadata": {},
   "outputs": [
    {
     "data": {
      "text/plain": [
       "array(['25000', '19750', '2100', '28000', '17431.82', '5375', '16000',\n",
       "       '6400', '23772.15', '8000', '9000', '12975', '10000', '3600',\n",
       "       '7350', '16975', '18825', '4200', '1750.04', '6625', '15000',\n",
       "       '29175', '6000', '22000', '18000', '11875', '24000', '5000',\n",
       "       '5329.76', '3925', '15825', '7300', '20850', '19400', '11625',\n",
       "       '3000', '19000', '2500', '12000', '7019.25', '14860.05', '21000',\n",
       "       '0', '18126.99', '1900', '23275', '6725', '1600', '7200',\n",
       "       '9458.33', '5950', '6975', '4975', '11341.5', '20500', '24375',\n",
       "       '7000', '20000', '17975', '5875', '12800', '2925', '2275.77',\n",
       "       '5500', '4775', '34450', '4800', '15875', '10765.99', '6875',\n",
       "       '20950', '13000', '7500', '.', '14400', '14675', '24450', '24975',\n",
       "       '35000', '11200', '30000', '766.09', '11650', '11500', '23477.53',\n",
       "       '8475', '16175', '16550', '9850', '13250', '5200', '11675', '5750',\n",
       "       '19975', '2000', '4500', '20800', '8500', '23475', '1975', '14375',\n",
       "       '8325', '3800', '7750', '19500', '27050', '14925', '8800', '11000',\n",
       "       '3500', '21175', '2650', '8575', '13200', '10750', '5450',\n",
       "       '224.99', '2375', '14850', '14000', '17325', '5400', '19125',\n",
       "       '13003.66', '19075', '5640.7', '5592.37', '10375', '16450',\n",
       "       '11325', '4900', '10050', '14725', '19950', '16359.69', '4325',\n",
       "       '10075', '10550', '24868.47', '8400', '23500', '6200', '15975',\n",
       "       '8350', '2875', '4000', '27825', '12250', '16800', '18775', '7850',\n",
       "       '6500', '7100', '5975', '5575', '16350', '22975', '17994.17',\n",
       "       '5050', '12225', '20737.86', '18650', '6100', '14900', '7575',\n",
       "       '24800', '15325', '27925', '6301.07', '2200', '27975', '9925',\n",
       "       '28625', '12100', '10850', '11350', '26500', '4950', '1000',\n",
       "       '31300', '29975', '1500', '6727.42', '16400', '3625', '10800',\n",
       "       '11862.38', '5996.63', '19050', '15650', '4225', '20975',\n",
       "       '9999.36', '18200', '10200', '3975', '7997.85', '23000', '1850',\n",
       "       '214.02', '15900', '10500', '21250', '7125', '14450', '24950',\n",
       "       '20775', '9450', '34950', '33500', '23350', '2575', '12909.48',\n",
       "       '11950', '4700', '11375', '11975', '2799.99', '25875', '12275',\n",
       "       '14950', '5691.36', '4750', '9225.43', '11750', '21975', '19900',\n",
       "       '13025', '16275', '2125', '21725', '4475', '22250', '4797.96',\n",
       "       '2400', '3639.28', '17500', '15745.73', '1550', '6375', '11100',\n",
       "       '27575', '1647.62', '486.13', '16786.31', '18525', '5800', '19925',\n",
       "       '6250', '17600', '9767.84', '30750', '15450', '13175', '13675',\n",
       "       '3225', '13975', '9750', '1200', '24288.45', '6775', '12475',\n",
       "       '19725', '30050', '19861.23', '7725', '19200', '5525', '2275',\n",
       "       '5900', '25975', '7975', '13450', '9600', '8081.65', '8700',\n",
       "       '24400', '16445.93', '4550', '6075', '3700', '1700', '3200',\n",
       "       '2800', '11925', '17000', '14600', '27884.92', '2116.76', '917.28',\n",
       "       '13800', '20875', '3100', '23995.24', '22400', '5600', '12300',\n",
       "       '33645.15', '7800', '15800', '24925', '9575', '12500', '6475',\n",
       "       '2250', '14975', '5300', '12725', '2450', '14775', '19875', '2950',\n",
       "       '33600', '31825', '12425', '19600', '24175', '10700', '5242.75',\n",
       "       '16750', '29000', '9700', '7400', '27000', '28200', '16650',\n",
       "       '6700', '25450', '11530.58', '7550', '14825', '32000', '20125',\n",
       "       '5473.88', '9500', '25850', '13600', '3575', '17890.7', '27950',\n",
       "       '14750', '544.89', '12700', '11475', '10325', '2700', '10625',\n",
       "       '7925', '525', '13914.17', '17400', '17950', '21700', '1775',\n",
       "       '19896.51', '15925', '4825', '17250', '750', '13075', '13500',\n",
       "       '9999.71', '12375', '5675', '7650', '-0.01', '28350', '6963.08',\n",
       "       '14401.65', '2057.84', '15500', '10350', '8550', '9975', '15175',\n",
       "       '7425', '14925.21', '9445.58', '8113.74', '1800', '3910.45',\n",
       "       '15700', '7175', '5825', '10725', '4575', '7997.79', '20675',\n",
       "       '10477.85', '19525', '29950', '10168.89', '17738.58', '2025.01',\n",
       "       '14869.55', '13613.86', '8875', '11800', '10969.64', '17200',\n",
       "       '2050', '4450', '1950', '23950', '23975', '23750', '14875',\n",
       "       '3882.78', '6350', '21925', '9200', '24875', '14500', '9800',\n",
       "       '3300', '9950', '4888.24', '9550', '6770.1', '11550', '5925',\n",
       "       '9294.21', '15350', '2509.17', '31050', '24775', '16875', '31425',\n",
       "       '8975', '1334.54', '1125', '1750', '23800', '9100', '7475',\n",
       "       '9364.4', '5795.24', '25425', '3475', '14075', '6965.1',\n",
       "       '13714.83', '7782.65', '16200', '26993.89', '900', '5325', '26975',\n",
       "       '275', '23655.48', '24300', '9325', '2322.59', '9747.5',\n",
       "       '24814.89', '7825', '9675', '10166.42', '30225', '16500',\n",
       "       '13694.22', '13900.25', '10450', '825', '512.46', '11854.04',\n",
       "       '1450', '24550', '1400', '23925', '18225', '14993.57', '15865.55',\n",
       "       '10150.07', '7595.31', '15051.09', '7900', '9425', '9300', '16075',\n",
       "       '11575', '6165.31', '18975', '17475', '7875', '9775', '15600',\n",
       "       '18898.03', '4167.97', '13100', '5650', '19796.41', '8799.04',\n",
       "       '10928.83', '17982.94', '34977.35', '12787.71', '6950', '13796.59',\n",
       "       '7275', '24999.92', '5546.81', '6575', '9050', nan, '7950',\n",
       "       '23568.65', '9725', '32550', '9475', '33450', '32117', '17450',\n",
       "       '17994.46', '19575', '21963.64', '1625', '20375', '1675', '12875',\n",
       "       '21457.14', '8175.26', '6800', '6600', '23985.41', '4446.5',\n",
       "       '18625', '6900', '15675', '24798.43', '18725', '9924.07', '11150',\n",
       "       '9175', '7625', '8525', '23820.25', '4525', '26450', '3862.32',\n",
       "       '3969.9', '8086.75', '34975', '14100', '22750', '9250', '225',\n",
       "       '2975', '23947.48', '21850', '11600', '20550', '8600', '13150',\n",
       "       '12850', '4082.56', '6392.86', '3725', '16475', '14300', '11998.2',\n",
       "       '33000', '5425', '9869.17', '13825', '1300', '14625', '18750',\n",
       "       '21800', '18500', '24225', '12825', '6450', '12150', '22500',\n",
       "       '24575', '22425', '3250', '32058.53', '8996.01', '12200', '4350',\n",
       "       '13475', '25375', '13885.68', '24144.61', '8882.52', '7050',\n",
       "       '7325', '8450', '14575', '13575', '5175', '28150', '13750', '9900',\n",
       "       '16950', '14475', '3150', '17925', '22950', '24675', '19775',\n",
       "       '1998', '1973.77', '20700', '23450', '10878.55', '5775', '7450',\n",
       "       '23811.24', '31000', '4600', '25800', '2225', '19850', '711.54',\n",
       "       '4985.44', '23665.54', '15818.07', '2350', '10400', '14550',\n",
       "       '3900', '200', '4075', '4175', '20925', '25225', '10825', '15850',\n",
       "       '12136.46', '32350', '23400', '9875', '18375', '6894.01', '15550',\n",
       "       '12325', '18550', '29750.38', '17724.9', '13225', '18800',\n",
       "       '17896.62', '7586.93', '2075', '21825', '6557.05', '21950',\n",
       "       '23850', '21200', '10525', '15950', '16573.33', '6350.01', '1875',\n",
       "       '550', '11725', '17375', '6636.91', '5956.31', '18275', '8851.08',\n",
       "       '690.34', '7945.17', '24625', '34900', '5334.01', '6650',\n",
       "       '1196.59', '4398.89', '16755.89', '17900', '527.49', '4947.35',\n",
       "       '5350', '9516.78', '10950', '7242.07', '8100', '5905.66', '3850',\n",
       "       '7989.96', '4375', '17825', '8250', '11775', '7150', '14650',\n",
       "       '10300', '3945.6', '23675', '6025', '17775', '4400', '16100',\n",
       "       '4250', '11400', '5994', '16250', '14125', '30100', '4538.17',\n",
       "       '4025', '7827.03', '3750', '11696.88', '3825', '15775', '8205.63'],\n",
       "      dtype=object)"
      ]
     },
     "execution_count": 19,
     "metadata": {},
     "output_type": "execute_result"
    }
   ],
   "source": [
    "df_all['Amount.Funded.By.Investors'].unique()   # Seems there are combination of str and numeric values"
   ]
  },
  {
   "cell_type": "code",
   "execution_count": 20,
   "metadata": {},
   "outputs": [],
   "source": [
    "df_all['Amount.Funded.By.Investors'] = pd.to_numeric(df_all['Amount.Funded.By.Investors'],errors = 'coerce')"
   ]
  },
  {
   "cell_type": "code",
   "execution_count": 21,
   "metadata": {},
   "outputs": [
    {
     "data": {
      "text/plain": [
       "dtype('float64')"
      ]
     },
     "execution_count": 21,
     "metadata": {},
     "output_type": "execute_result"
    }
   ],
   "source": [
    "df_all['Amount.Funded.By.Investors'].dtypes"
   ]
  },
  {
   "cell_type": "code",
   "execution_count": 22,
   "metadata": {},
   "outputs": [
    {
     "data": {
      "text/plain": [
       "36 months    1950\n",
       "60 months     548\n",
       ".               1\n",
       "Name: Loan.Length, dtype: int64"
      ]
     },
     "execution_count": 22,
     "metadata": {},
     "output_type": "execute_result"
    }
   ],
   "source": [
    "df_all['Loan.Length'].value_counts()"
   ]
  },
  {
   "cell_type": "code",
   "execution_count": 23,
   "metadata": {},
   "outputs": [],
   "source": [
    "# There is '.' character in one row we will check by convert that to 36 month\n",
    "\n",
    "df_all.loc[df_all['Loan.Length'] == '.',['Loan.Length']] = '36'"
   ]
  },
  {
   "cell_type": "code",
   "execution_count": 24,
   "metadata": {},
   "outputs": [
    {
     "data": {
      "text/plain": [
       "36 months    1950\n",
       "60 months     548\n",
       "36              1\n",
       "Name: Loan.Length, dtype: int64"
      ]
     },
     "execution_count": 24,
     "metadata": {},
     "output_type": "execute_result"
    }
   ],
   "source": [
    "df_all['Loan.Length'].value_counts()"
   ]
  },
  {
   "cell_type": "code",
   "execution_count": 25,
   "metadata": {},
   "outputs": [],
   "source": [
    "df_all['Loan.Length'] = df_all['Loan.Length'].str.replace('months','')"
   ]
  },
  {
   "cell_type": "code",
   "execution_count": 26,
   "metadata": {},
   "outputs": [
    {
     "data": {
      "text/plain": [
       "36     1950\n",
       "60      548\n",
       "36        1\n",
       "Name: Loan.Length, dtype: int64"
      ]
     },
     "execution_count": 26,
     "metadata": {},
     "output_type": "execute_result"
    }
   ],
   "source": [
    "df_all['Loan.Length'].value_counts()"
   ]
  },
  {
   "cell_type": "code",
   "execution_count": 27,
   "metadata": {},
   "outputs": [],
   "source": [
    "df_all['Loan.Length'] = pd.to_numeric(df_all['Loan.Length'],errors = 'coerce')"
   ]
  },
  {
   "cell_type": "code",
   "execution_count": 28,
   "metadata": {},
   "outputs": [
    {
     "data": {
      "text/plain": [
       "dtype('float64')"
      ]
     },
     "execution_count": 28,
     "metadata": {},
     "output_type": "execute_result"
    }
   ],
   "source": [
    "df_all['Loan.Length'].dtypes"
   ]
  },
  {
   "cell_type": "code",
   "execution_count": 29,
   "metadata": {},
   "outputs": [],
   "source": [
    "df_all['Debt.To.Income.Ratio'] = df_all['Debt.To.Income.Ratio'].str.replace('%','')"
   ]
  },
  {
   "cell_type": "code",
   "execution_count": 30,
   "metadata": {},
   "outputs": [],
   "source": [
    "df_all['Debt.To.Income.Ratio'] = pd.to_numeric(df_all['Debt.To.Income.Ratio'],errors = 'coerce')"
   ]
  },
  {
   "cell_type": "code",
   "execution_count": 31,
   "metadata": {},
   "outputs": [
    {
     "data": {
      "text/plain": [
       "dtype('float64')"
      ]
     },
     "execution_count": 31,
     "metadata": {},
     "output_type": "execute_result"
    }
   ],
   "source": [
    "df_all['Debt.To.Income.Ratio'].dtypes"
   ]
  },
  {
   "cell_type": "code",
   "execution_count": null,
   "metadata": {},
   "outputs": [],
   "source": []
  },
  {
   "cell_type": "code",
   "execution_count": 32,
   "metadata": {},
   "outputs": [
    {
     "data": {
      "text/plain": [
       "8     259\n",
       "9     236\n",
       "6     232\n",
       "7     216\n",
       "11    187\n",
       "10    185\n",
       "13    157\n",
       "12    153\n",
       "5     153\n",
       "14    138\n",
       "4     105\n",
       "15     96\n",
       "16     66\n",
       "3      59\n",
       "17     58\n",
       "18     51\n",
       "19     30\n",
       "21     26\n",
       "2      24\n",
       "20     23\n",
       "23     11\n",
       "22      8\n",
       "24      7\n",
       ".       5\n",
       "25      4\n",
       "26      3\n",
       "38      1\n",
       "31      1\n",
       "34      1\n",
       "36      1\n",
       "Name: Open.CREDIT.Lines, dtype: int64"
      ]
     },
     "execution_count": 32,
     "metadata": {},
     "output_type": "execute_result"
    }
   ],
   "source": [
    "df_all['Open.CREDIT.Lines'].value_counts()  ## Because of '.' character this is converted to object type"
   ]
  },
  {
   "cell_type": "code",
   "execution_count": 33,
   "metadata": {},
   "outputs": [
    {
     "data": {
      "text/html": [
       "<div>\n",
       "<style scoped>\n",
       "    .dataframe tbody tr th:only-of-type {\n",
       "        vertical-align: middle;\n",
       "    }\n",
       "\n",
       "    .dataframe tbody tr th {\n",
       "        vertical-align: top;\n",
       "    }\n",
       "\n",
       "    .dataframe thead th {\n",
       "        text-align: right;\n",
       "    }\n",
       "</style>\n",
       "<table border=\"1\" class=\"dataframe\">\n",
       "  <thead>\n",
       "    <tr style=\"text-align: right;\">\n",
       "      <th></th>\n",
       "      <th>Amount.Requested</th>\n",
       "      <th>Amount.Funded.By.Investors</th>\n",
       "      <th>Interest.Rate</th>\n",
       "      <th>Loan.Length</th>\n",
       "      <th>Loan.Purpose</th>\n",
       "      <th>Debt.To.Income.Ratio</th>\n",
       "      <th>State</th>\n",
       "      <th>Home.Ownership</th>\n",
       "      <th>Monthly.Income</th>\n",
       "      <th>FICO.Range</th>\n",
       "      <th>Open.CREDIT.Lines</th>\n",
       "      <th>Revolving.CREDIT.Balance</th>\n",
       "      <th>Inquiries.in.the.Last.6.Months</th>\n",
       "      <th>Employment.Length</th>\n",
       "      <th>type</th>\n",
       "    </tr>\n",
       "  </thead>\n",
       "  <tbody>\n",
       "    <tr>\n",
       "      <th>98</th>\n",
       "      <td>34500.0</td>\n",
       "      <td>34450.0</td>\n",
       "      <td>6.62%</td>\n",
       "      <td>36.0</td>\n",
       "      <td>small_business</td>\n",
       "      <td>16.46</td>\n",
       "      <td>CA</td>\n",
       "      <td>MORTGAGE</td>\n",
       "      <td>10000.00</td>\n",
       "      <td>805-809</td>\n",
       "      <td>.</td>\n",
       "      <td>5317</td>\n",
       "      <td>0.0</td>\n",
       "      <td>9 years</td>\n",
       "      <td>train</td>\n",
       "    </tr>\n",
       "    <tr>\n",
       "      <th>1383</th>\n",
       "      <td>9050.0</td>\n",
       "      <td>9050.0</td>\n",
       "      <td>13.11%</td>\n",
       "      <td>36.0</td>\n",
       "      <td>credit_card</td>\n",
       "      <td>20.58</td>\n",
       "      <td>MI</td>\n",
       "      <td>MORTGAGE</td>\n",
       "      <td>5166.67</td>\n",
       "      <td>700-704</td>\n",
       "      <td>.</td>\n",
       "      <td>7571</td>\n",
       "      <td>1.0</td>\n",
       "      <td>7 years</td>\n",
       "      <td>train</td>\n",
       "    </tr>\n",
       "    <tr>\n",
       "      <th>1907</th>\n",
       "      <td>3000.0</td>\n",
       "      <td>2975.0</td>\n",
       "      <td>7.90%</td>\n",
       "      <td>36.0</td>\n",
       "      <td>major_purchase</td>\n",
       "      <td>17.58</td>\n",
       "      <td>LA</td>\n",
       "      <td>RENT</td>\n",
       "      <td>3458.33</td>\n",
       "      <td>720-724</td>\n",
       "      <td>.</td>\n",
       "      <td>2999</td>\n",
       "      <td>0.0</td>\n",
       "      <td>1 year</td>\n",
       "      <td>train</td>\n",
       "    </tr>\n",
       "    <tr>\n",
       "      <th>5</th>\n",
       "      <td>6000.0</td>\n",
       "      <td>NaN</td>\n",
       "      <td>unknown</td>\n",
       "      <td>36.0</td>\n",
       "      <td>home_improvement</td>\n",
       "      <td>2.52</td>\n",
       "      <td>NJ</td>\n",
       "      <td>MORTGAGE</td>\n",
       "      <td>4800.00</td>\n",
       "      <td>750-754</td>\n",
       "      <td>.</td>\n",
       "      <td>1442</td>\n",
       "      <td>0.0</td>\n",
       "      <td>10+ years</td>\n",
       "      <td>test</td>\n",
       "    </tr>\n",
       "    <tr>\n",
       "      <th>135</th>\n",
       "      <td>8000.0</td>\n",
       "      <td>8000.0</td>\n",
       "      <td>unknown</td>\n",
       "      <td>36.0</td>\n",
       "      <td>debt_consolidation</td>\n",
       "      <td>15.46</td>\n",
       "      <td>CA</td>\n",
       "      <td>MORTGAGE</td>\n",
       "      <td>2916.67</td>\n",
       "      <td>675-679</td>\n",
       "      <td>.</td>\n",
       "      <td>7152</td>\n",
       "      <td>1.0</td>\n",
       "      <td>5 years</td>\n",
       "      <td>test</td>\n",
       "    </tr>\n",
       "  </tbody>\n",
       "</table>\n",
       "</div>"
      ],
      "text/plain": [
       "      Amount.Requested  Amount.Funded.By.Investors Interest.Rate  Loan.Length  \\\n",
       "98             34500.0                     34450.0         6.62%         36.0   \n",
       "1383            9050.0                      9050.0        13.11%         36.0   \n",
       "1907            3000.0                      2975.0         7.90%         36.0   \n",
       "5               6000.0                         NaN       unknown         36.0   \n",
       "135             8000.0                      8000.0       unknown         36.0   \n",
       "\n",
       "            Loan.Purpose  Debt.To.Income.Ratio State Home.Ownership  \\\n",
       "98        small_business                 16.46    CA       MORTGAGE   \n",
       "1383         credit_card                 20.58    MI       MORTGAGE   \n",
       "1907      major_purchase                 17.58    LA           RENT   \n",
       "5       home_improvement                  2.52    NJ       MORTGAGE   \n",
       "135   debt_consolidation                 15.46    CA       MORTGAGE   \n",
       "\n",
       "      Monthly.Income FICO.Range Open.CREDIT.Lines Revolving.CREDIT.Balance  \\\n",
       "98          10000.00    805-809                 .                     5317   \n",
       "1383         5166.67    700-704                 .                     7571   \n",
       "1907         3458.33    720-724                 .                     2999   \n",
       "5            4800.00    750-754                 .                     1442   \n",
       "135          2916.67    675-679                 .                     7152   \n",
       "\n",
       "      Inquiries.in.the.Last.6.Months Employment.Length   type  \n",
       "98                               0.0           9 years  train  \n",
       "1383                             1.0           7 years  train  \n",
       "1907                             0.0            1 year  train  \n",
       "5                                0.0         10+ years   test  \n",
       "135                              1.0           5 years   test  "
      ]
     },
     "execution_count": 33,
     "metadata": {},
     "output_type": "execute_result"
    }
   ],
   "source": [
    "df_all.loc[df_all['Open.CREDIT.Lines'] == '.'] "
   ]
  },
  {
   "cell_type": "code",
   "execution_count": 34,
   "metadata": {},
   "outputs": [],
   "source": [
    "df_all.drop(df_all.loc[df_all['Open.CREDIT.Lines'] == '.'].index, axis = 0, inplace=True)"
   ]
  },
  {
   "cell_type": "code",
   "execution_count": 35,
   "metadata": {},
   "outputs": [],
   "source": [
    "df_all['Open.CREDIT.Lines'] = pd.to_numeric(df_all['Open.CREDIT.Lines'], errors='coerce')"
   ]
  },
  {
   "cell_type": "code",
   "execution_count": 36,
   "metadata": {},
   "outputs": [
    {
     "data": {
      "text/plain": [
       "dtype('float64')"
      ]
     },
     "execution_count": 36,
     "metadata": {},
     "output_type": "execute_result"
    }
   ],
   "source": [
    "df_all['Open.CREDIT.Lines'].dtypes"
   ]
  },
  {
   "cell_type": "code",
   "execution_count": 37,
   "metadata": {},
   "outputs": [],
   "source": [
    "df_all['Revolving.CREDIT.Balance'] = pd.to_numeric(df_all['Revolving.CREDIT.Balance'], errors='coerce')"
   ]
  },
  {
   "cell_type": "code",
   "execution_count": 38,
   "metadata": {},
   "outputs": [
    {
     "data": {
      "text/plain": [
       "dtype('float64')"
      ]
     },
     "execution_count": 38,
     "metadata": {},
     "output_type": "execute_result"
    }
   ],
   "source": [
    "df_all['Revolving.CREDIT.Balance'].dtypes"
   ]
  },
  {
   "cell_type": "code",
   "execution_count": 39,
   "metadata": {},
   "outputs": [
    {
     "name": "stdout",
     "output_type": "stream",
     "text": [
      "<class 'pandas.core.frame.DataFrame'>\n",
      "Int64Index: 2492 entries, 0 to 299\n",
      "Data columns (total 15 columns):\n",
      " #   Column                          Non-Null Count  Dtype  \n",
      "---  ------                          --------------  -----  \n",
      " 0   Amount.Requested                2487 non-null   float64\n",
      " 1   Amount.Funded.By.Investors      2488 non-null   float64\n",
      " 2   Interest.Rate                   2492 non-null   object \n",
      " 3   Loan.Length                     2491 non-null   float64\n",
      " 4   Loan.Purpose                    2491 non-null   object \n",
      " 5   Debt.To.Income.Ratio            2491 non-null   float64\n",
      " 6   State                           2491 non-null   object \n",
      " 7   Home.Ownership                  2491 non-null   object \n",
      " 8   Monthly.Income                  2489 non-null   float64\n",
      " 9   FICO.Range                      2492 non-null   object \n",
      " 10  Open.CREDIT.Lines               2488 non-null   float64\n",
      " 11  Revolving.CREDIT.Balance        2487 non-null   float64\n",
      " 12  Inquiries.in.the.Last.6.Months  2489 non-null   float64\n",
      " 13  Employment.Length               2415 non-null   object \n",
      " 14  type                            2492 non-null   object \n",
      "dtypes: float64(8), object(7)\n",
      "memory usage: 311.5+ KB\n"
     ]
    }
   ],
   "source": [
    "df_all.info()"
   ]
  },
  {
   "cell_type": "code",
   "execution_count": 40,
   "metadata": {},
   "outputs": [
    {
     "data": {
      "text/plain": [
       "10+ years    650\n",
       "< 1 year     249\n",
       "2 years      243\n",
       "3 years      235\n",
       "5 years      201\n",
       "4 years      191\n",
       "1 year       176\n",
       "6 years      163\n",
       "7 years      126\n",
       "8 years      108\n",
       "9 years       71\n",
       ".              2\n",
       "Name: Employment.Length, dtype: int64"
      ]
     },
     "execution_count": 40,
     "metadata": {},
     "output_type": "execute_result"
    }
   ],
   "source": [
    "df_all['Employment.Length'].value_counts()"
   ]
  },
  {
   "cell_type": "code",
   "execution_count": 41,
   "metadata": {},
   "outputs": [],
   "source": [
    "df_all['Employment.Length'] = df_all['Employment.Length'].str.replace('years','')\n",
    "df_all['Employment.Length'] = df_all['Employment.Length'].str.replace('year','')"
   ]
  },
  {
   "cell_type": "code",
   "execution_count": 42,
   "metadata": {},
   "outputs": [
    {
     "data": {
      "text/plain": [
       "10+     650\n",
       "< 1     249\n",
       "2       243\n",
       "3       235\n",
       "5       201\n",
       "4       191\n",
       "1       176\n",
       "6       163\n",
       "7       126\n",
       "8       108\n",
       "9        71\n",
       ".         2\n",
       "Name: Employment.Length, dtype: int64"
      ]
     },
     "execution_count": 42,
     "metadata": {},
     "output_type": "execute_result"
    }
   ],
   "source": [
    "df_all['Employment.Length'].value_counts()"
   ]
  },
  {
   "cell_type": "code",
   "execution_count": 43,
   "metadata": {},
   "outputs": [],
   "source": [
    "df_all.loc[df_all['Employment.Length'] == '.',['Employment.Length']] = 10\n",
    "df_all['Employment.Length'] = df_all['Employment.Length'].str.replace('+','')\n",
    "df_all['Employment.Length'] = df_all['Employment.Length'].str.replace('<','')"
   ]
  },
  {
   "cell_type": "code",
   "execution_count": 44,
   "metadata": {},
   "outputs": [
    {
     "data": {
      "text/plain": [
       "10     650\n",
       " 1     249\n",
       "2      243\n",
       "3      235\n",
       "5      201\n",
       "4      191\n",
       "1      176\n",
       "6      163\n",
       "7      126\n",
       "8      108\n",
       "9       71\n",
       "Name: Employment.Length, dtype: int64"
      ]
     },
     "execution_count": 44,
     "metadata": {},
     "output_type": "execute_result"
    }
   ],
   "source": [
    "df_all['Employment.Length'].value_counts()"
   ]
  },
  {
   "cell_type": "code",
   "execution_count": 45,
   "metadata": {},
   "outputs": [],
   "source": [
    "df_all['Employment.Length'] = pd.to_numeric(df_all['Employment.Length'], errors='coerce')"
   ]
  },
  {
   "cell_type": "code",
   "execution_count": 46,
   "metadata": {},
   "outputs": [
    {
     "data": {
      "text/plain": [
       "dtype('float64')"
      ]
     },
     "execution_count": 46,
     "metadata": {},
     "output_type": "execute_result"
    }
   ],
   "source": [
    "df_all['Employment.Length'].dtypes"
   ]
  },
  {
   "cell_type": "code",
   "execution_count": 47,
   "metadata": {},
   "outputs": [
    {
     "name": "stdout",
     "output_type": "stream",
     "text": [
      "<class 'pandas.core.frame.DataFrame'>\n",
      "Int64Index: 2492 entries, 0 to 299\n",
      "Data columns (total 15 columns):\n",
      " #   Column                          Non-Null Count  Dtype  \n",
      "---  ------                          --------------  -----  \n",
      " 0   Amount.Requested                2487 non-null   float64\n",
      " 1   Amount.Funded.By.Investors      2488 non-null   float64\n",
      " 2   Interest.Rate                   2492 non-null   object \n",
      " 3   Loan.Length                     2491 non-null   float64\n",
      " 4   Loan.Purpose                    2491 non-null   object \n",
      " 5   Debt.To.Income.Ratio            2491 non-null   float64\n",
      " 6   State                           2491 non-null   object \n",
      " 7   Home.Ownership                  2491 non-null   object \n",
      " 8   Monthly.Income                  2489 non-null   float64\n",
      " 9   FICO.Range                      2492 non-null   object \n",
      " 10  Open.CREDIT.Lines               2488 non-null   float64\n",
      " 11  Revolving.CREDIT.Balance        2487 non-null   float64\n",
      " 12  Inquiries.in.the.Last.6.Months  2489 non-null   float64\n",
      " 13  Employment.Length               2413 non-null   float64\n",
      " 14  type                            2492 non-null   object \n",
      "dtypes: float64(9), object(6)\n",
      "memory usage: 311.5+ KB\n"
     ]
    }
   ],
   "source": [
    "df_all.info()"
   ]
  },
  {
   "cell_type": "markdown",
   "metadata": {},
   "source": [
    "- Now we can move to categorical columns\n",
    "    - Loan.Purpose \n",
    "    - State\n",
    "    - Home.Ownership"
   ]
  },
  {
   "cell_type": "code",
   "execution_count": 48,
   "metadata": {},
   "outputs": [
    {
     "data": {
      "text/plain": [
       "debt_consolidation    1304\n",
       "credit_card            443\n",
       "other                  200\n",
       "home_improvement       151\n",
       "major_purchase         100\n",
       "small_business          85\n",
       "car                     50\n",
       "wedding                 39\n",
       "medical                 30\n",
       "moving                  29\n",
       "vacation                21\n",
       "house                   20\n",
       "educational             15\n",
       "renewable_energy         4\n",
       "Name: Loan.Purpose, dtype: int64"
      ]
     },
     "execution_count": 48,
     "metadata": {},
     "output_type": "execute_result"
    }
   ],
   "source": [
    "df_all['Loan.Purpose'].value_counts()"
   ]
  },
  {
   "cell_type": "code",
   "execution_count": 49,
   "metadata": {},
   "outputs": [],
   "source": [
    "# We will check if there is any relation between state and Interest.Rate feature\n",
    "# In case of no relationship we will drop the column\n",
    "df_all['State'].value_counts()\n",
    "\n",
    "# Lets drop States\n",
    "\n",
    "df_all.drop('State', inplace = True, axis = 1)"
   ]
  },
  {
   "cell_type": "code",
   "execution_count": 50,
   "metadata": {},
   "outputs": [
    {
     "data": {
      "text/plain": [
       "RENT        1144\n",
       "MORTGAGE    1141\n",
       "OWN          200\n",
       "OTHER          5\n",
       "NONE           1\n",
       "Name: Home.Ownership, dtype: int64"
      ]
     },
     "execution_count": 50,
     "metadata": {},
     "output_type": "execute_result"
    }
   ],
   "source": [
    "df_all['Home.Ownership'].value_counts()"
   ]
  },
  {
   "cell_type": "code",
   "execution_count": 51,
   "metadata": {},
   "outputs": [],
   "source": [
    "new_columns = pd.get_dummies(df_all.loc[:,['Home.Ownership','Loan.Purpose']])"
   ]
  },
  {
   "cell_type": "code",
   "execution_count": 52,
   "metadata": {},
   "outputs": [],
   "source": [
    "df_all = pd.concat([df_all,new_columns],axis = 1)"
   ]
  },
  {
   "cell_type": "code",
   "execution_count": 53,
   "metadata": {},
   "outputs": [],
   "source": [
    "df_all.drop(['Home.Ownership','Loan.Purpose'],axis = 1, inplace=True)"
   ]
  },
  {
   "cell_type": "code",
   "execution_count": 54,
   "metadata": {},
   "outputs": [],
   "source": [
    "# Lets try to handel FICO\n",
    "\n",
    "k = df_all['FICO.Range'].str.split(\"-\",expand=True).astype(float)\n",
    "\n",
    "df_all['mean_fico'] = 0.5*(k[0]+k[1])\n",
    "\n",
    "df_all.drop('FICO.Range',axis=1,inplace=True)"
   ]
  },
  {
   "cell_type": "code",
   "execution_count": 55,
   "metadata": {},
   "outputs": [
    {
     "name": "stdout",
     "output_type": "stream",
     "text": [
      "<class 'pandas.core.frame.DataFrame'>\n",
      "Int64Index: 2492 entries, 0 to 299\n",
      "Data columns (total 31 columns):\n",
      " #   Column                           Non-Null Count  Dtype  \n",
      "---  ------                           --------------  -----  \n",
      " 0   Amount.Requested                 2487 non-null   float64\n",
      " 1   Amount.Funded.By.Investors       2488 non-null   float64\n",
      " 2   Interest.Rate                    2492 non-null   object \n",
      " 3   Loan.Length                      2491 non-null   float64\n",
      " 4   Debt.To.Income.Ratio             2491 non-null   float64\n",
      " 5   Monthly.Income                   2489 non-null   float64\n",
      " 6   Open.CREDIT.Lines                2488 non-null   float64\n",
      " 7   Revolving.CREDIT.Balance         2487 non-null   float64\n",
      " 8   Inquiries.in.the.Last.6.Months   2489 non-null   float64\n",
      " 9   Employment.Length                2413 non-null   float64\n",
      " 10  type                             2492 non-null   object \n",
      " 11  Home.Ownership_MORTGAGE          2492 non-null   uint8  \n",
      " 12  Home.Ownership_NONE              2492 non-null   uint8  \n",
      " 13  Home.Ownership_OTHER             2492 non-null   uint8  \n",
      " 14  Home.Ownership_OWN               2492 non-null   uint8  \n",
      " 15  Home.Ownership_RENT              2492 non-null   uint8  \n",
      " 16  Loan.Purpose_car                 2492 non-null   uint8  \n",
      " 17  Loan.Purpose_credit_card         2492 non-null   uint8  \n",
      " 18  Loan.Purpose_debt_consolidation  2492 non-null   uint8  \n",
      " 19  Loan.Purpose_educational         2492 non-null   uint8  \n",
      " 20  Loan.Purpose_home_improvement    2492 non-null   uint8  \n",
      " 21  Loan.Purpose_house               2492 non-null   uint8  \n",
      " 22  Loan.Purpose_major_purchase      2492 non-null   uint8  \n",
      " 23  Loan.Purpose_medical             2492 non-null   uint8  \n",
      " 24  Loan.Purpose_moving              2492 non-null   uint8  \n",
      " 25  Loan.Purpose_other               2492 non-null   uint8  \n",
      " 26  Loan.Purpose_renewable_energy    2492 non-null   uint8  \n",
      " 27  Loan.Purpose_small_business      2492 non-null   uint8  \n",
      " 28  Loan.Purpose_vacation            2492 non-null   uint8  \n",
      " 29  Loan.Purpose_wedding             2492 non-null   uint8  \n",
      " 30  mean_fico                        2492 non-null   float64\n",
      "dtypes: float64(10), object(2), uint8(19)\n",
      "memory usage: 299.3+ KB\n"
     ]
    }
   ],
   "source": [
    "df_all.info()"
   ]
  },
  {
   "cell_type": "code",
   "execution_count": 56,
   "metadata": {},
   "outputs": [
    {
     "data": {
      "text/plain": [
       "Amount.Requested                    5\n",
       "Amount.Funded.By.Investors          4\n",
       "Interest.Rate                       0\n",
       "Loan.Length                         1\n",
       "Debt.To.Income.Ratio                1\n",
       "Monthly.Income                      3\n",
       "Open.CREDIT.Lines                   4\n",
       "Revolving.CREDIT.Balance            5\n",
       "Inquiries.in.the.Last.6.Months      3\n",
       "Employment.Length                  79\n",
       "type                                0\n",
       "Home.Ownership_MORTGAGE             0\n",
       "Home.Ownership_NONE                 0\n",
       "Home.Ownership_OTHER                0\n",
       "Home.Ownership_OWN                  0\n",
       "Home.Ownership_RENT                 0\n",
       "Loan.Purpose_car                    0\n",
       "Loan.Purpose_credit_card            0\n",
       "Loan.Purpose_debt_consolidation     0\n",
       "Loan.Purpose_educational            0\n",
       "Loan.Purpose_home_improvement       0\n",
       "Loan.Purpose_house                  0\n",
       "Loan.Purpose_major_purchase         0\n",
       "Loan.Purpose_medical                0\n",
       "Loan.Purpose_moving                 0\n",
       "Loan.Purpose_other                  0\n",
       "Loan.Purpose_renewable_energy       0\n",
       "Loan.Purpose_small_business         0\n",
       "Loan.Purpose_vacation               0\n",
       "Loan.Purpose_wedding                0\n",
       "mean_fico                           0\n",
       "dtype: int64"
      ]
     },
     "execution_count": 56,
     "metadata": {},
     "output_type": "execute_result"
    }
   ],
   "source": [
    "# Chcking for null values\n",
    "\n",
    "df_all.isna().sum()"
   ]
  },
  {
   "cell_type": "code",
   "execution_count": 57,
   "metadata": {},
   "outputs": [
    {
     "data": {
      "text/plain": [
       "count    2413.000000\n",
       "mean        5.490261\n",
       "std         3.441228\n",
       "min         1.000000\n",
       "25%         2.000000\n",
       "50%         5.000000\n",
       "75%        10.000000\n",
       "max        10.000000\n",
       "Name: Employment.Length, dtype: float64"
      ]
     },
     "execution_count": 57,
     "metadata": {},
     "output_type": "execute_result"
    }
   ],
   "source": [
    "df_all['Employment.Length'].describe() ## Will try to replace null employee length with mean value"
   ]
  },
  {
   "cell_type": "code",
   "execution_count": 58,
   "metadata": {},
   "outputs": [],
   "source": [
    "df_all.loc[df_all['Employment.Length'].isna(),'Employment.Length'] = df_all['Employment.Length'].mean()"
   ]
  },
  {
   "cell_type": "code",
   "execution_count": 59,
   "metadata": {},
   "outputs": [
    {
     "data": {
      "text/plain": [
       "Amount.Requested                   5\n",
       "Amount.Funded.By.Investors         4\n",
       "Interest.Rate                      0\n",
       "Loan.Length                        1\n",
       "Debt.To.Income.Ratio               1\n",
       "Monthly.Income                     3\n",
       "Open.CREDIT.Lines                  4\n",
       "Revolving.CREDIT.Balance           5\n",
       "Inquiries.in.the.Last.6.Months     3\n",
       "Employment.Length                  0\n",
       "type                               0\n",
       "Home.Ownership_MORTGAGE            0\n",
       "Home.Ownership_NONE                0\n",
       "Home.Ownership_OTHER               0\n",
       "Home.Ownership_OWN                 0\n",
       "Home.Ownership_RENT                0\n",
       "Loan.Purpose_car                   0\n",
       "Loan.Purpose_credit_card           0\n",
       "Loan.Purpose_debt_consolidation    0\n",
       "Loan.Purpose_educational           0\n",
       "Loan.Purpose_home_improvement      0\n",
       "Loan.Purpose_house                 0\n",
       "Loan.Purpose_major_purchase        0\n",
       "Loan.Purpose_medical               0\n",
       "Loan.Purpose_moving                0\n",
       "Loan.Purpose_other                 0\n",
       "Loan.Purpose_renewable_energy      0\n",
       "Loan.Purpose_small_business        0\n",
       "Loan.Purpose_vacation              0\n",
       "Loan.Purpose_wedding               0\n",
       "mean_fico                          0\n",
       "dtype: int64"
      ]
     },
     "execution_count": 59,
     "metadata": {},
     "output_type": "execute_result"
    }
   ],
   "source": [
    "df_all.isna().sum()"
   ]
  },
  {
   "cell_type": "code",
   "execution_count": 60,
   "metadata": {},
   "outputs": [
    {
     "data": {
      "text/html": [
       "<div>\n",
       "<style scoped>\n",
       "    .dataframe tbody tr th:only-of-type {\n",
       "        vertical-align: middle;\n",
       "    }\n",
       "\n",
       "    .dataframe tbody tr th {\n",
       "        vertical-align: top;\n",
       "    }\n",
       "\n",
       "    .dataframe thead th {\n",
       "        text-align: right;\n",
       "    }\n",
       "</style>\n",
       "<table border=\"1\" class=\"dataframe\">\n",
       "  <thead>\n",
       "    <tr style=\"text-align: right;\">\n",
       "      <th></th>\n",
       "      <th>Amount.Requested</th>\n",
       "      <th>Amount.Funded.By.Investors</th>\n",
       "      <th>Interest.Rate</th>\n",
       "      <th>Loan.Length</th>\n",
       "      <th>Debt.To.Income.Ratio</th>\n",
       "      <th>Monthly.Income</th>\n",
       "      <th>Open.CREDIT.Lines</th>\n",
       "      <th>Revolving.CREDIT.Balance</th>\n",
       "      <th>Inquiries.in.the.Last.6.Months</th>\n",
       "      <th>Employment.Length</th>\n",
       "      <th>...</th>\n",
       "      <th>Loan.Purpose_house</th>\n",
       "      <th>Loan.Purpose_major_purchase</th>\n",
       "      <th>Loan.Purpose_medical</th>\n",
       "      <th>Loan.Purpose_moving</th>\n",
       "      <th>Loan.Purpose_other</th>\n",
       "      <th>Loan.Purpose_renewable_energy</th>\n",
       "      <th>Loan.Purpose_small_business</th>\n",
       "      <th>Loan.Purpose_vacation</th>\n",
       "      <th>Loan.Purpose_wedding</th>\n",
       "      <th>mean_fico</th>\n",
       "    </tr>\n",
       "  </thead>\n",
       "  <tbody>\n",
       "    <tr>\n",
       "      <th>2</th>\n",
       "      <td>2100.0</td>\n",
       "      <td>2100.00</td>\n",
       "      <td>14.33%</td>\n",
       "      <td>36.0</td>\n",
       "      <td>3.50</td>\n",
       "      <td>1000.00</td>\n",
       "      <td>13.0</td>\n",
       "      <td>893.0</td>\n",
       "      <td>1.0</td>\n",
       "      <td>1.0</td>\n",
       "      <td>...</td>\n",
       "      <td>0</td>\n",
       "      <td>1</td>\n",
       "      <td>0</td>\n",
       "      <td>0</td>\n",
       "      <td>0</td>\n",
       "      <td>0</td>\n",
       "      <td>0</td>\n",
       "      <td>0</td>\n",
       "      <td>0</td>\n",
       "      <td>692.0</td>\n",
       "    </tr>\n",
       "    <tr>\n",
       "      <th>3</th>\n",
       "      <td>28000.0</td>\n",
       "      <td>28000.00</td>\n",
       "      <td>16.29%</td>\n",
       "      <td>36.0</td>\n",
       "      <td>19.62</td>\n",
       "      <td>7083.33</td>\n",
       "      <td>12.0</td>\n",
       "      <td>38194.0</td>\n",
       "      <td>1.0</td>\n",
       "      <td>10.0</td>\n",
       "      <td>...</td>\n",
       "      <td>0</td>\n",
       "      <td>0</td>\n",
       "      <td>0</td>\n",
       "      <td>0</td>\n",
       "      <td>0</td>\n",
       "      <td>0</td>\n",
       "      <td>0</td>\n",
       "      <td>0</td>\n",
       "      <td>0</td>\n",
       "      <td>712.0</td>\n",
       "    </tr>\n",
       "    <tr>\n",
       "      <th>4</th>\n",
       "      <td>24250.0</td>\n",
       "      <td>17431.82</td>\n",
       "      <td>12.23%</td>\n",
       "      <td>60.0</td>\n",
       "      <td>23.79</td>\n",
       "      <td>5833.33</td>\n",
       "      <td>6.0</td>\n",
       "      <td>31061.0</td>\n",
       "      <td>2.0</td>\n",
       "      <td>10.0</td>\n",
       "      <td>...</td>\n",
       "      <td>0</td>\n",
       "      <td>0</td>\n",
       "      <td>0</td>\n",
       "      <td>0</td>\n",
       "      <td>0</td>\n",
       "      <td>0</td>\n",
       "      <td>0</td>\n",
       "      <td>0</td>\n",
       "      <td>0</td>\n",
       "      <td>732.0</td>\n",
       "    </tr>\n",
       "    <tr>\n",
       "      <th>6</th>\n",
       "      <td>16000.0</td>\n",
       "      <td>16000.00</td>\n",
       "      <td>22.47%</td>\n",
       "      <td>60.0</td>\n",
       "      <td>11.27</td>\n",
       "      <td>4791.67</td>\n",
       "      <td>5.0</td>\n",
       "      <td>8474.0</td>\n",
       "      <td>0.0</td>\n",
       "      <td>2.0</td>\n",
       "      <td>...</td>\n",
       "      <td>0</td>\n",
       "      <td>0</td>\n",
       "      <td>0</td>\n",
       "      <td>0</td>\n",
       "      <td>0</td>\n",
       "      <td>0</td>\n",
       "      <td>0</td>\n",
       "      <td>0</td>\n",
       "      <td>0</td>\n",
       "      <td>667.0</td>\n",
       "    </tr>\n",
       "    <tr>\n",
       "      <th>7</th>\n",
       "      <td>6400.0</td>\n",
       "      <td>6400.00</td>\n",
       "      <td>7.51%</td>\n",
       "      <td>36.0</td>\n",
       "      <td>9.58</td>\n",
       "      <td>6400.00</td>\n",
       "      <td>11.0</td>\n",
       "      <td>12306.0</td>\n",
       "      <td>1.0</td>\n",
       "      <td>1.0</td>\n",
       "      <td>...</td>\n",
       "      <td>0</td>\n",
       "      <td>1</td>\n",
       "      <td>0</td>\n",
       "      <td>0</td>\n",
       "      <td>0</td>\n",
       "      <td>0</td>\n",
       "      <td>0</td>\n",
       "      <td>0</td>\n",
       "      <td>0</td>\n",
       "      <td>737.0</td>\n",
       "    </tr>\n",
       "    <tr>\n",
       "      <th>...</th>\n",
       "      <td>...</td>\n",
       "      <td>...</td>\n",
       "      <td>...</td>\n",
       "      <td>...</td>\n",
       "      <td>...</td>\n",
       "      <td>...</td>\n",
       "      <td>...</td>\n",
       "      <td>...</td>\n",
       "      <td>...</td>\n",
       "      <td>...</td>\n",
       "      <td>...</td>\n",
       "      <td>...</td>\n",
       "      <td>...</td>\n",
       "      <td>...</td>\n",
       "      <td>...</td>\n",
       "      <td>...</td>\n",
       "      <td>...</td>\n",
       "      <td>...</td>\n",
       "      <td>...</td>\n",
       "      <td>...</td>\n",
       "      <td>...</td>\n",
       "    </tr>\n",
       "    <tr>\n",
       "      <th>295</th>\n",
       "      <td>12000.0</td>\n",
       "      <td>11975.00</td>\n",
       "      <td>unknown</td>\n",
       "      <td>60.0</td>\n",
       "      <td>13.91</td>\n",
       "      <td>7083.33</td>\n",
       "      <td>7.0</td>\n",
       "      <td>3923.0</td>\n",
       "      <td>2.0</td>\n",
       "      <td>7.0</td>\n",
       "      <td>...</td>\n",
       "      <td>0</td>\n",
       "      <td>0</td>\n",
       "      <td>0</td>\n",
       "      <td>0</td>\n",
       "      <td>0</td>\n",
       "      <td>0</td>\n",
       "      <td>0</td>\n",
       "      <td>0</td>\n",
       "      <td>0</td>\n",
       "      <td>707.0</td>\n",
       "    </tr>\n",
       "    <tr>\n",
       "      <th>296</th>\n",
       "      <td>5000.0</td>\n",
       "      <td>5000.00</td>\n",
       "      <td>unknown</td>\n",
       "      <td>36.0</td>\n",
       "      <td>17.22</td>\n",
       "      <td>4000.00</td>\n",
       "      <td>10.0</td>\n",
       "      <td>6023.0</td>\n",
       "      <td>0.0</td>\n",
       "      <td>10.0</td>\n",
       "      <td>...</td>\n",
       "      <td>0</td>\n",
       "      <td>0</td>\n",
       "      <td>0</td>\n",
       "      <td>0</td>\n",
       "      <td>0</td>\n",
       "      <td>0</td>\n",
       "      <td>0</td>\n",
       "      <td>0</td>\n",
       "      <td>0</td>\n",
       "      <td>707.0</td>\n",
       "    </tr>\n",
       "    <tr>\n",
       "      <th>297</th>\n",
       "      <td>4375.0</td>\n",
       "      <td>4375.00</td>\n",
       "      <td>unknown</td>\n",
       "      <td>36.0</td>\n",
       "      <td>9.09</td>\n",
       "      <td>2916.67</td>\n",
       "      <td>9.0</td>\n",
       "      <td>6944.0</td>\n",
       "      <td>2.0</td>\n",
       "      <td>6.0</td>\n",
       "      <td>...</td>\n",
       "      <td>0</td>\n",
       "      <td>0</td>\n",
       "      <td>0</td>\n",
       "      <td>0</td>\n",
       "      <td>0</td>\n",
       "      <td>0</td>\n",
       "      <td>0</td>\n",
       "      <td>0</td>\n",
       "      <td>0</td>\n",
       "      <td>672.0</td>\n",
       "    </tr>\n",
       "    <tr>\n",
       "      <th>298</th>\n",
       "      <td>13600.0</td>\n",
       "      <td>13600.00</td>\n",
       "      <td>unknown</td>\n",
       "      <td>60.0</td>\n",
       "      <td>12.85</td>\n",
       "      <td>5651.33</td>\n",
       "      <td>13.0</td>\n",
       "      <td>24383.0</td>\n",
       "      <td>0.0</td>\n",
       "      <td>10.0</td>\n",
       "      <td>...</td>\n",
       "      <td>0</td>\n",
       "      <td>0</td>\n",
       "      <td>0</td>\n",
       "      <td>0</td>\n",
       "      <td>0</td>\n",
       "      <td>0</td>\n",
       "      <td>0</td>\n",
       "      <td>0</td>\n",
       "      <td>0</td>\n",
       "      <td>677.0</td>\n",
       "    </tr>\n",
       "    <tr>\n",
       "      <th>299</th>\n",
       "      <td>6000.0</td>\n",
       "      <td>6000.00</td>\n",
       "      <td>unknown</td>\n",
       "      <td>36.0</td>\n",
       "      <td>7.64</td>\n",
       "      <td>5184.75</td>\n",
       "      <td>8.0</td>\n",
       "      <td>14422.0</td>\n",
       "      <td>0.0</td>\n",
       "      <td>2.0</td>\n",
       "      <td>...</td>\n",
       "      <td>0</td>\n",
       "      <td>0</td>\n",
       "      <td>0</td>\n",
       "      <td>0</td>\n",
       "      <td>0</td>\n",
       "      <td>0</td>\n",
       "      <td>0</td>\n",
       "      <td>0</td>\n",
       "      <td>0</td>\n",
       "      <td>677.0</td>\n",
       "    </tr>\n",
       "  </tbody>\n",
       "</table>\n",
       "<p>2488 rows × 31 columns</p>\n",
       "</div>"
      ],
      "text/plain": [
       "     Amount.Requested  Amount.Funded.By.Investors Interest.Rate  Loan.Length  \\\n",
       "2              2100.0                     2100.00        14.33%         36.0   \n",
       "3             28000.0                    28000.00        16.29%         36.0   \n",
       "4             24250.0                    17431.82        12.23%         60.0   \n",
       "6             16000.0                    16000.00        22.47%         60.0   \n",
       "7              6400.0                     6400.00         7.51%         36.0   \n",
       "..                ...                         ...           ...          ...   \n",
       "295           12000.0                    11975.00       unknown         60.0   \n",
       "296            5000.0                     5000.00       unknown         36.0   \n",
       "297            4375.0                     4375.00       unknown         36.0   \n",
       "298           13600.0                    13600.00       unknown         60.0   \n",
       "299            6000.0                     6000.00       unknown         36.0   \n",
       "\n",
       "     Debt.To.Income.Ratio  Monthly.Income  Open.CREDIT.Lines  \\\n",
       "2                    3.50         1000.00               13.0   \n",
       "3                   19.62         7083.33               12.0   \n",
       "4                   23.79         5833.33                6.0   \n",
       "6                   11.27         4791.67                5.0   \n",
       "7                    9.58         6400.00               11.0   \n",
       "..                    ...             ...                ...   \n",
       "295                 13.91         7083.33                7.0   \n",
       "296                 17.22         4000.00               10.0   \n",
       "297                  9.09         2916.67                9.0   \n",
       "298                 12.85         5651.33               13.0   \n",
       "299                  7.64         5184.75                8.0   \n",
       "\n",
       "     Revolving.CREDIT.Balance  Inquiries.in.the.Last.6.Months  \\\n",
       "2                       893.0                             1.0   \n",
       "3                     38194.0                             1.0   \n",
       "4                     31061.0                             2.0   \n",
       "6                      8474.0                             0.0   \n",
       "7                     12306.0                             1.0   \n",
       "..                        ...                             ...   \n",
       "295                    3923.0                             2.0   \n",
       "296                    6023.0                             0.0   \n",
       "297                    6944.0                             2.0   \n",
       "298                   24383.0                             0.0   \n",
       "299                   14422.0                             0.0   \n",
       "\n",
       "     Employment.Length  ... Loan.Purpose_house  Loan.Purpose_major_purchase  \\\n",
       "2                  1.0  ...                  0                            1   \n",
       "3                 10.0  ...                  0                            0   \n",
       "4                 10.0  ...                  0                            0   \n",
       "6                  2.0  ...                  0                            0   \n",
       "7                  1.0  ...                  0                            1   \n",
       "..                 ...  ...                ...                          ...   \n",
       "295                7.0  ...                  0                            0   \n",
       "296               10.0  ...                  0                            0   \n",
       "297                6.0  ...                  0                            0   \n",
       "298               10.0  ...                  0                            0   \n",
       "299                2.0  ...                  0                            0   \n",
       "\n",
       "     Loan.Purpose_medical  Loan.Purpose_moving  Loan.Purpose_other  \\\n",
       "2                       0                    0                   0   \n",
       "3                       0                    0                   0   \n",
       "4                       0                    0                   0   \n",
       "6                       0                    0                   0   \n",
       "7                       0                    0                   0   \n",
       "..                    ...                  ...                 ...   \n",
       "295                     0                    0                   0   \n",
       "296                     0                    0                   0   \n",
       "297                     0                    0                   0   \n",
       "298                     0                    0                   0   \n",
       "299                     0                    0                   0   \n",
       "\n",
       "     Loan.Purpose_renewable_energy  Loan.Purpose_small_business  \\\n",
       "2                                0                            0   \n",
       "3                                0                            0   \n",
       "4                                0                            0   \n",
       "6                                0                            0   \n",
       "7                                0                            0   \n",
       "..                             ...                          ...   \n",
       "295                              0                            0   \n",
       "296                              0                            0   \n",
       "297                              0                            0   \n",
       "298                              0                            0   \n",
       "299                              0                            0   \n",
       "\n",
       "     Loan.Purpose_vacation  Loan.Purpose_wedding  mean_fico  \n",
       "2                        0                     0      692.0  \n",
       "3                        0                     0      712.0  \n",
       "4                        0                     0      732.0  \n",
       "6                        0                     0      667.0  \n",
       "7                        0                     0      737.0  \n",
       "..                     ...                   ...        ...  \n",
       "295                      0                     0      707.0  \n",
       "296                      0                     0      707.0  \n",
       "297                      0                     0      672.0  \n",
       "298                      0                     0      677.0  \n",
       "299                      0                     0      677.0  \n",
       "\n",
       "[2488 rows x 31 columns]"
      ]
     },
     "execution_count": 60,
     "metadata": {},
     "output_type": "execute_result"
    }
   ],
   "source": [
    "df_all.drop(df_all['Amount.Requested'].isna(), axis = 0)"
   ]
  },
  {
   "cell_type": "code",
   "execution_count": 61,
   "metadata": {},
   "outputs": [],
   "source": [
    "df_all.drop(df_all[df_all['Amount.Requested'].isna()].index, axis = 0, inplace=True)"
   ]
  },
  {
   "cell_type": "code",
   "execution_count": 62,
   "metadata": {},
   "outputs": [],
   "source": [
    "df_all.drop(df_all[df_all['Amount.Funded.By.Investors'].isna()].index, axis = 0,inplace=True)"
   ]
  },
  {
   "cell_type": "code",
   "execution_count": 63,
   "metadata": {},
   "outputs": [],
   "source": [
    "df_all.drop(df_all[df_all['Loan.Length'].isna()].index, axis = 0,inplace=True)"
   ]
  },
  {
   "cell_type": "code",
   "execution_count": 64,
   "metadata": {},
   "outputs": [],
   "source": [
    "df_all.drop(df_all[df_all['Debt.To.Income.Ratio'].isna()].index, axis = 0,inplace=True)"
   ]
  },
  {
   "cell_type": "code",
   "execution_count": 65,
   "metadata": {},
   "outputs": [],
   "source": [
    "df_all.drop(df_all[df_all['Monthly.Income'].isna()].index, axis = 0,inplace=True)"
   ]
  },
  {
   "cell_type": "code",
   "execution_count": 66,
   "metadata": {},
   "outputs": [],
   "source": [
    "df_all.drop(df_all[df_all['Open.CREDIT.Lines'].isna()].index, axis = 0,inplace=True)"
   ]
  },
  {
   "cell_type": "code",
   "execution_count": 67,
   "metadata": {},
   "outputs": [],
   "source": [
    "df_all.drop(df_all[df_all['Revolving.CREDIT.Balance'].isna()].index, axis = 0,inplace=True)"
   ]
  },
  {
   "cell_type": "code",
   "execution_count": 68,
   "metadata": {},
   "outputs": [],
   "source": [
    "df_all.drop(df_all[df_all['Inquiries.in.the.Last.6.Months'].isna()].index, axis = 0,inplace=True)"
   ]
  },
  {
   "cell_type": "code",
   "execution_count": 69,
   "metadata": {},
   "outputs": [
    {
     "data": {
      "text/plain": [
       "Amount.Requested                   0\n",
       "Amount.Funded.By.Investors         0\n",
       "Interest.Rate                      0\n",
       "Loan.Length                        0\n",
       "Debt.To.Income.Ratio               0\n",
       "Monthly.Income                     0\n",
       "Open.CREDIT.Lines                  0\n",
       "Revolving.CREDIT.Balance           0\n",
       "Inquiries.in.the.Last.6.Months     0\n",
       "Employment.Length                  0\n",
       "type                               0\n",
       "Home.Ownership_MORTGAGE            0\n",
       "Home.Ownership_NONE                0\n",
       "Home.Ownership_OTHER               0\n",
       "Home.Ownership_OWN                 0\n",
       "Home.Ownership_RENT                0\n",
       "Loan.Purpose_car                   0\n",
       "Loan.Purpose_credit_card           0\n",
       "Loan.Purpose_debt_consolidation    0\n",
       "Loan.Purpose_educational           0\n",
       "Loan.Purpose_home_improvement      0\n",
       "Loan.Purpose_house                 0\n",
       "Loan.Purpose_major_purchase        0\n",
       "Loan.Purpose_medical               0\n",
       "Loan.Purpose_moving                0\n",
       "Loan.Purpose_other                 0\n",
       "Loan.Purpose_renewable_energy      0\n",
       "Loan.Purpose_small_business        0\n",
       "Loan.Purpose_vacation              0\n",
       "Loan.Purpose_wedding               0\n",
       "mean_fico                          0\n",
       "dtype: int64"
      ]
     },
     "execution_count": 69,
     "metadata": {},
     "output_type": "execute_result"
    }
   ],
   "source": [
    "df_all.isna().sum()"
   ]
  },
  {
   "cell_type": "code",
   "execution_count": 70,
   "metadata": {},
   "outputs": [
    {
     "name": "stdout",
     "output_type": "stream",
     "text": [
      "<class 'pandas.core.frame.DataFrame'>\n",
      "Int64Index: 2471 entries, 0 to 299\n",
      "Data columns (total 31 columns):\n",
      " #   Column                           Non-Null Count  Dtype  \n",
      "---  ------                           --------------  -----  \n",
      " 0   Amount.Requested                 2471 non-null   float64\n",
      " 1   Amount.Funded.By.Investors       2471 non-null   float64\n",
      " 2   Interest.Rate                    2471 non-null   object \n",
      " 3   Loan.Length                      2471 non-null   float64\n",
      " 4   Debt.To.Income.Ratio             2471 non-null   float64\n",
      " 5   Monthly.Income                   2471 non-null   float64\n",
      " 6   Open.CREDIT.Lines                2471 non-null   float64\n",
      " 7   Revolving.CREDIT.Balance         2471 non-null   float64\n",
      " 8   Inquiries.in.the.Last.6.Months   2471 non-null   float64\n",
      " 9   Employment.Length                2471 non-null   float64\n",
      " 10  type                             2471 non-null   object \n",
      " 11  Home.Ownership_MORTGAGE          2471 non-null   uint8  \n",
      " 12  Home.Ownership_NONE              2471 non-null   uint8  \n",
      " 13  Home.Ownership_OTHER             2471 non-null   uint8  \n",
      " 14  Home.Ownership_OWN               2471 non-null   uint8  \n",
      " 15  Home.Ownership_RENT              2471 non-null   uint8  \n",
      " 16  Loan.Purpose_car                 2471 non-null   uint8  \n",
      " 17  Loan.Purpose_credit_card         2471 non-null   uint8  \n",
      " 18  Loan.Purpose_debt_consolidation  2471 non-null   uint8  \n",
      " 19  Loan.Purpose_educational         2471 non-null   uint8  \n",
      " 20  Loan.Purpose_home_improvement    2471 non-null   uint8  \n",
      " 21  Loan.Purpose_house               2471 non-null   uint8  \n",
      " 22  Loan.Purpose_major_purchase      2471 non-null   uint8  \n",
      " 23  Loan.Purpose_medical             2471 non-null   uint8  \n",
      " 24  Loan.Purpose_moving              2471 non-null   uint8  \n",
      " 25  Loan.Purpose_other               2471 non-null   uint8  \n",
      " 26  Loan.Purpose_renewable_energy    2471 non-null   uint8  \n",
      " 27  Loan.Purpose_small_business      2471 non-null   uint8  \n",
      " 28  Loan.Purpose_vacation            2471 non-null   uint8  \n",
      " 29  Loan.Purpose_wedding             2471 non-null   uint8  \n",
      " 30  mean_fico                        2471 non-null   float64\n",
      "dtypes: float64(10), object(2), uint8(19)\n",
      "memory usage: 296.8+ KB\n"
     ]
    }
   ],
   "source": [
    "df_all.info()"
   ]
  },
  {
   "cell_type": "code",
   "execution_count": 71,
   "metadata": {},
   "outputs": [],
   "source": [
    "final_train_df = df_all[df_all['type'] == 'train'].copy(deep= True)"
   ]
  },
  {
   "cell_type": "code",
   "execution_count": 72,
   "metadata": {},
   "outputs": [],
   "source": [
    "final_train_df.drop('type',inplace = True, axis = 1)"
   ]
  },
  {
   "cell_type": "code",
   "execution_count": 73,
   "metadata": {},
   "outputs": [
    {
     "data": {
      "text/html": [
       "<div>\n",
       "<style scoped>\n",
       "    .dataframe tbody tr th:only-of-type {\n",
       "        vertical-align: middle;\n",
       "    }\n",
       "\n",
       "    .dataframe tbody tr th {\n",
       "        vertical-align: top;\n",
       "    }\n",
       "\n",
       "    .dataframe thead th {\n",
       "        text-align: right;\n",
       "    }\n",
       "</style>\n",
       "<table border=\"1\" class=\"dataframe\">\n",
       "  <thead>\n",
       "    <tr style=\"text-align: right;\">\n",
       "      <th></th>\n",
       "      <th>Amount.Requested</th>\n",
       "      <th>Amount.Funded.By.Investors</th>\n",
       "      <th>Interest.Rate</th>\n",
       "      <th>Loan.Length</th>\n",
       "      <th>Debt.To.Income.Ratio</th>\n",
       "      <th>Monthly.Income</th>\n",
       "      <th>Open.CREDIT.Lines</th>\n",
       "      <th>Revolving.CREDIT.Balance</th>\n",
       "      <th>Inquiries.in.the.Last.6.Months</th>\n",
       "      <th>Employment.Length</th>\n",
       "      <th>...</th>\n",
       "      <th>Loan.Purpose_house</th>\n",
       "      <th>Loan.Purpose_major_purchase</th>\n",
       "      <th>Loan.Purpose_medical</th>\n",
       "      <th>Loan.Purpose_moving</th>\n",
       "      <th>Loan.Purpose_other</th>\n",
       "      <th>Loan.Purpose_renewable_energy</th>\n",
       "      <th>Loan.Purpose_small_business</th>\n",
       "      <th>Loan.Purpose_vacation</th>\n",
       "      <th>Loan.Purpose_wedding</th>\n",
       "      <th>mean_fico</th>\n",
       "    </tr>\n",
       "  </thead>\n",
       "  <tbody>\n",
       "    <tr>\n",
       "      <th>0</th>\n",
       "      <td>25000.0</td>\n",
       "      <td>25000.00</td>\n",
       "      <td>18.49%</td>\n",
       "      <td>60.0</td>\n",
       "      <td>27.56</td>\n",
       "      <td>8606.56</td>\n",
       "      <td>11.0</td>\n",
       "      <td>15210.0</td>\n",
       "      <td>3.0</td>\n",
       "      <td>5.0</td>\n",
       "      <td>...</td>\n",
       "      <td>0</td>\n",
       "      <td>0</td>\n",
       "      <td>0</td>\n",
       "      <td>0</td>\n",
       "      <td>0</td>\n",
       "      <td>0</td>\n",
       "      <td>0</td>\n",
       "      <td>0</td>\n",
       "      <td>0</td>\n",
       "      <td>722.0</td>\n",
       "    </tr>\n",
       "    <tr>\n",
       "      <th>1</th>\n",
       "      <td>19750.0</td>\n",
       "      <td>19750.00</td>\n",
       "      <td>17.27%</td>\n",
       "      <td>60.0</td>\n",
       "      <td>13.39</td>\n",
       "      <td>6737.50</td>\n",
       "      <td>14.0</td>\n",
       "      <td>19070.0</td>\n",
       "      <td>3.0</td>\n",
       "      <td>4.0</td>\n",
       "      <td>...</td>\n",
       "      <td>0</td>\n",
       "      <td>0</td>\n",
       "      <td>0</td>\n",
       "      <td>0</td>\n",
       "      <td>0</td>\n",
       "      <td>0</td>\n",
       "      <td>0</td>\n",
       "      <td>0</td>\n",
       "      <td>0</td>\n",
       "      <td>712.0</td>\n",
       "    </tr>\n",
       "    <tr>\n",
       "      <th>2</th>\n",
       "      <td>2100.0</td>\n",
       "      <td>2100.00</td>\n",
       "      <td>14.33%</td>\n",
       "      <td>36.0</td>\n",
       "      <td>3.50</td>\n",
       "      <td>1000.00</td>\n",
       "      <td>13.0</td>\n",
       "      <td>893.0</td>\n",
       "      <td>1.0</td>\n",
       "      <td>1.0</td>\n",
       "      <td>...</td>\n",
       "      <td>0</td>\n",
       "      <td>1</td>\n",
       "      <td>0</td>\n",
       "      <td>0</td>\n",
       "      <td>0</td>\n",
       "      <td>0</td>\n",
       "      <td>0</td>\n",
       "      <td>0</td>\n",
       "      <td>0</td>\n",
       "      <td>692.0</td>\n",
       "    </tr>\n",
       "    <tr>\n",
       "      <th>3</th>\n",
       "      <td>28000.0</td>\n",
       "      <td>28000.00</td>\n",
       "      <td>16.29%</td>\n",
       "      <td>36.0</td>\n",
       "      <td>19.62</td>\n",
       "      <td>7083.33</td>\n",
       "      <td>12.0</td>\n",
       "      <td>38194.0</td>\n",
       "      <td>1.0</td>\n",
       "      <td>10.0</td>\n",
       "      <td>...</td>\n",
       "      <td>0</td>\n",
       "      <td>0</td>\n",
       "      <td>0</td>\n",
       "      <td>0</td>\n",
       "      <td>0</td>\n",
       "      <td>0</td>\n",
       "      <td>0</td>\n",
       "      <td>0</td>\n",
       "      <td>0</td>\n",
       "      <td>712.0</td>\n",
       "    </tr>\n",
       "    <tr>\n",
       "      <th>4</th>\n",
       "      <td>24250.0</td>\n",
       "      <td>17431.82</td>\n",
       "      <td>12.23%</td>\n",
       "      <td>60.0</td>\n",
       "      <td>23.79</td>\n",
       "      <td>5833.33</td>\n",
       "      <td>6.0</td>\n",
       "      <td>31061.0</td>\n",
       "      <td>2.0</td>\n",
       "      <td>10.0</td>\n",
       "      <td>...</td>\n",
       "      <td>0</td>\n",
       "      <td>0</td>\n",
       "      <td>0</td>\n",
       "      <td>0</td>\n",
       "      <td>0</td>\n",
       "      <td>0</td>\n",
       "      <td>0</td>\n",
       "      <td>0</td>\n",
       "      <td>0</td>\n",
       "      <td>732.0</td>\n",
       "    </tr>\n",
       "    <tr>\n",
       "      <th>...</th>\n",
       "      <td>...</td>\n",
       "      <td>...</td>\n",
       "      <td>...</td>\n",
       "      <td>...</td>\n",
       "      <td>...</td>\n",
       "      <td>...</td>\n",
       "      <td>...</td>\n",
       "      <td>...</td>\n",
       "      <td>...</td>\n",
       "      <td>...</td>\n",
       "      <td>...</td>\n",
       "      <td>...</td>\n",
       "      <td>...</td>\n",
       "      <td>...</td>\n",
       "      <td>...</td>\n",
       "      <td>...</td>\n",
       "      <td>...</td>\n",
       "      <td>...</td>\n",
       "      <td>...</td>\n",
       "      <td>...</td>\n",
       "      <td>...</td>\n",
       "    </tr>\n",
       "    <tr>\n",
       "      <th>2195</th>\n",
       "      <td>30000.0</td>\n",
       "      <td>30000.00</td>\n",
       "      <td>23.28%</td>\n",
       "      <td>60.0</td>\n",
       "      <td>12.10</td>\n",
       "      <td>7083.33</td>\n",
       "      <td>16.0</td>\n",
       "      <td>17969.0</td>\n",
       "      <td>1.0</td>\n",
       "      <td>10.0</td>\n",
       "      <td>...</td>\n",
       "      <td>0</td>\n",
       "      <td>0</td>\n",
       "      <td>0</td>\n",
       "      <td>0</td>\n",
       "      <td>1</td>\n",
       "      <td>0</td>\n",
       "      <td>0</td>\n",
       "      <td>0</td>\n",
       "      <td>0</td>\n",
       "      <td>677.0</td>\n",
       "    </tr>\n",
       "    <tr>\n",
       "      <th>2196</th>\n",
       "      <td>4200.0</td>\n",
       "      <td>4200.00</td>\n",
       "      <td>14.33%</td>\n",
       "      <td>60.0</td>\n",
       "      <td>14.16</td>\n",
       "      <td>3850.00</td>\n",
       "      <td>4.0</td>\n",
       "      <td>5718.0</td>\n",
       "      <td>0.0</td>\n",
       "      <td>2.0</td>\n",
       "      <td>...</td>\n",
       "      <td>0</td>\n",
       "      <td>0</td>\n",
       "      <td>0</td>\n",
       "      <td>0</td>\n",
       "      <td>0</td>\n",
       "      <td>0</td>\n",
       "      <td>0</td>\n",
       "      <td>0</td>\n",
       "      <td>0</td>\n",
       "      <td>702.0</td>\n",
       "    </tr>\n",
       "    <tr>\n",
       "      <th>2197</th>\n",
       "      <td>19800.0</td>\n",
       "      <td>19775.00</td>\n",
       "      <td>15.31%</td>\n",
       "      <td>60.0</td>\n",
       "      <td>15.03</td>\n",
       "      <td>6666.67</td>\n",
       "      <td>10.0</td>\n",
       "      <td>46879.0</td>\n",
       "      <td>3.0</td>\n",
       "      <td>6.0</td>\n",
       "      <td>...</td>\n",
       "      <td>0</td>\n",
       "      <td>0</td>\n",
       "      <td>0</td>\n",
       "      <td>0</td>\n",
       "      <td>0</td>\n",
       "      <td>0</td>\n",
       "      <td>0</td>\n",
       "      <td>0</td>\n",
       "      <td>0</td>\n",
       "      <td>677.0</td>\n",
       "    </tr>\n",
       "    <tr>\n",
       "      <th>2198</th>\n",
       "      <td>18000.0</td>\n",
       "      <td>18000.00</td>\n",
       "      <td>20.99%</td>\n",
       "      <td>60.0</td>\n",
       "      <td>11.63</td>\n",
       "      <td>9051.83</td>\n",
       "      <td>5.0</td>\n",
       "      <td>32394.0</td>\n",
       "      <td>2.0</td>\n",
       "      <td>4.0</td>\n",
       "      <td>...</td>\n",
       "      <td>0</td>\n",
       "      <td>0</td>\n",
       "      <td>0</td>\n",
       "      <td>0</td>\n",
       "      <td>0</td>\n",
       "      <td>0</td>\n",
       "      <td>0</td>\n",
       "      <td>0</td>\n",
       "      <td>0</td>\n",
       "      <td>672.0</td>\n",
       "    </tr>\n",
       "    <tr>\n",
       "      <th>2199</th>\n",
       "      <td>7550.0</td>\n",
       "      <td>7550.00</td>\n",
       "      <td>10.16%</td>\n",
       "      <td>36.0</td>\n",
       "      <td>3.83</td>\n",
       "      <td>8333.33</td>\n",
       "      <td>10.0</td>\n",
       "      <td>10204.0</td>\n",
       "      <td>0.0</td>\n",
       "      <td>2.0</td>\n",
       "      <td>...</td>\n",
       "      <td>0</td>\n",
       "      <td>0</td>\n",
       "      <td>0</td>\n",
       "      <td>0</td>\n",
       "      <td>0</td>\n",
       "      <td>0</td>\n",
       "      <td>0</td>\n",
       "      <td>0</td>\n",
       "      <td>0</td>\n",
       "      <td>712.0</td>\n",
       "    </tr>\n",
       "  </tbody>\n",
       "</table>\n",
       "<p>2175 rows × 30 columns</p>\n",
       "</div>"
      ],
      "text/plain": [
       "      Amount.Requested  Amount.Funded.By.Investors Interest.Rate  Loan.Length  \\\n",
       "0              25000.0                    25000.00        18.49%         60.0   \n",
       "1              19750.0                    19750.00        17.27%         60.0   \n",
       "2               2100.0                     2100.00        14.33%         36.0   \n",
       "3              28000.0                    28000.00        16.29%         36.0   \n",
       "4              24250.0                    17431.82        12.23%         60.0   \n",
       "...                ...                         ...           ...          ...   \n",
       "2195           30000.0                    30000.00        23.28%         60.0   \n",
       "2196            4200.0                     4200.00        14.33%         60.0   \n",
       "2197           19800.0                    19775.00        15.31%         60.0   \n",
       "2198           18000.0                    18000.00        20.99%         60.0   \n",
       "2199            7550.0                     7550.00        10.16%         36.0   \n",
       "\n",
       "      Debt.To.Income.Ratio  Monthly.Income  Open.CREDIT.Lines  \\\n",
       "0                    27.56         8606.56               11.0   \n",
       "1                    13.39         6737.50               14.0   \n",
       "2                     3.50         1000.00               13.0   \n",
       "3                    19.62         7083.33               12.0   \n",
       "4                    23.79         5833.33                6.0   \n",
       "...                    ...             ...                ...   \n",
       "2195                 12.10         7083.33               16.0   \n",
       "2196                 14.16         3850.00                4.0   \n",
       "2197                 15.03         6666.67               10.0   \n",
       "2198                 11.63         9051.83                5.0   \n",
       "2199                  3.83         8333.33               10.0   \n",
       "\n",
       "      Revolving.CREDIT.Balance  Inquiries.in.the.Last.6.Months  \\\n",
       "0                      15210.0                             3.0   \n",
       "1                      19070.0                             3.0   \n",
       "2                        893.0                             1.0   \n",
       "3                      38194.0                             1.0   \n",
       "4                      31061.0                             2.0   \n",
       "...                        ...                             ...   \n",
       "2195                   17969.0                             1.0   \n",
       "2196                    5718.0                             0.0   \n",
       "2197                   46879.0                             3.0   \n",
       "2198                   32394.0                             2.0   \n",
       "2199                   10204.0                             0.0   \n",
       "\n",
       "      Employment.Length  ...  Loan.Purpose_house  Loan.Purpose_major_purchase  \\\n",
       "0                   5.0  ...                   0                            0   \n",
       "1                   4.0  ...                   0                            0   \n",
       "2                   1.0  ...                   0                            1   \n",
       "3                  10.0  ...                   0                            0   \n",
       "4                  10.0  ...                   0                            0   \n",
       "...                 ...  ...                 ...                          ...   \n",
       "2195               10.0  ...                   0                            0   \n",
       "2196                2.0  ...                   0                            0   \n",
       "2197                6.0  ...                   0                            0   \n",
       "2198                4.0  ...                   0                            0   \n",
       "2199                2.0  ...                   0                            0   \n",
       "\n",
       "      Loan.Purpose_medical  Loan.Purpose_moving  Loan.Purpose_other  \\\n",
       "0                        0                    0                   0   \n",
       "1                        0                    0                   0   \n",
       "2                        0                    0                   0   \n",
       "3                        0                    0                   0   \n",
       "4                        0                    0                   0   \n",
       "...                    ...                  ...                 ...   \n",
       "2195                     0                    0                   1   \n",
       "2196                     0                    0                   0   \n",
       "2197                     0                    0                   0   \n",
       "2198                     0                    0                   0   \n",
       "2199                     0                    0                   0   \n",
       "\n",
       "      Loan.Purpose_renewable_energy  Loan.Purpose_small_business  \\\n",
       "0                                 0                            0   \n",
       "1                                 0                            0   \n",
       "2                                 0                            0   \n",
       "3                                 0                            0   \n",
       "4                                 0                            0   \n",
       "...                             ...                          ...   \n",
       "2195                              0                            0   \n",
       "2196                              0                            0   \n",
       "2197                              0                            0   \n",
       "2198                              0                            0   \n",
       "2199                              0                            0   \n",
       "\n",
       "      Loan.Purpose_vacation  Loan.Purpose_wedding  mean_fico  \n",
       "0                         0                     0      722.0  \n",
       "1                         0                     0      712.0  \n",
       "2                         0                     0      692.0  \n",
       "3                         0                     0      712.0  \n",
       "4                         0                     0      732.0  \n",
       "...                     ...                   ...        ...  \n",
       "2195                      0                     0      677.0  \n",
       "2196                      0                     0      702.0  \n",
       "2197                      0                     0      677.0  \n",
       "2198                      0                     0      672.0  \n",
       "2199                      0                     0      712.0  \n",
       "\n",
       "[2175 rows x 30 columns]"
      ]
     },
     "execution_count": 73,
     "metadata": {},
     "output_type": "execute_result"
    }
   ],
   "source": [
    "final_train_df"
   ]
  },
  {
   "cell_type": "code",
   "execution_count": 74,
   "metadata": {},
   "outputs": [],
   "source": [
    "final_test_df = df_all[df_all['type'] == 'test'].copy(deep=True)"
   ]
  },
  {
   "cell_type": "code",
   "execution_count": 75,
   "metadata": {},
   "outputs": [],
   "source": [
    "final_test_df.drop('type',inplace = True, axis = 1)"
   ]
  },
  {
   "cell_type": "code",
   "execution_count": 76,
   "metadata": {},
   "outputs": [
    {
     "data": {
      "text/html": [
       "<div>\n",
       "<style scoped>\n",
       "    .dataframe tbody tr th:only-of-type {\n",
       "        vertical-align: middle;\n",
       "    }\n",
       "\n",
       "    .dataframe tbody tr th {\n",
       "        vertical-align: top;\n",
       "    }\n",
       "\n",
       "    .dataframe thead th {\n",
       "        text-align: right;\n",
       "    }\n",
       "</style>\n",
       "<table border=\"1\" class=\"dataframe\">\n",
       "  <thead>\n",
       "    <tr style=\"text-align: right;\">\n",
       "      <th></th>\n",
       "      <th>Amount.Requested</th>\n",
       "      <th>Amount.Funded.By.Investors</th>\n",
       "      <th>Interest.Rate</th>\n",
       "      <th>Loan.Length</th>\n",
       "      <th>Debt.To.Income.Ratio</th>\n",
       "      <th>Monthly.Income</th>\n",
       "      <th>Open.CREDIT.Lines</th>\n",
       "      <th>Revolving.CREDIT.Balance</th>\n",
       "      <th>Inquiries.in.the.Last.6.Months</th>\n",
       "      <th>Employment.Length</th>\n",
       "      <th>...</th>\n",
       "      <th>Loan.Purpose_house</th>\n",
       "      <th>Loan.Purpose_major_purchase</th>\n",
       "      <th>Loan.Purpose_medical</th>\n",
       "      <th>Loan.Purpose_moving</th>\n",
       "      <th>Loan.Purpose_other</th>\n",
       "      <th>Loan.Purpose_renewable_energy</th>\n",
       "      <th>Loan.Purpose_small_business</th>\n",
       "      <th>Loan.Purpose_vacation</th>\n",
       "      <th>Loan.Purpose_wedding</th>\n",
       "      <th>mean_fico</th>\n",
       "    </tr>\n",
       "  </thead>\n",
       "  <tbody>\n",
       "    <tr>\n",
       "      <th>0</th>\n",
       "      <td>5000.0</td>\n",
       "      <td>5000.0</td>\n",
       "      <td>unknown</td>\n",
       "      <td>60.0</td>\n",
       "      <td>12.59</td>\n",
       "      <td>4416.67</td>\n",
       "      <td>13.0</td>\n",
       "      <td>7686.0</td>\n",
       "      <td>0.0</td>\n",
       "      <td>1.0</td>\n",
       "      <td>...</td>\n",
       "      <td>0</td>\n",
       "      <td>0</td>\n",
       "      <td>0</td>\n",
       "      <td>1</td>\n",
       "      <td>0</td>\n",
       "      <td>0</td>\n",
       "      <td>0</td>\n",
       "      <td>0</td>\n",
       "      <td>0</td>\n",
       "      <td>692.0</td>\n",
       "    </tr>\n",
       "    <tr>\n",
       "      <th>1</th>\n",
       "      <td>18000.0</td>\n",
       "      <td>18000.0</td>\n",
       "      <td>unknown</td>\n",
       "      <td>60.0</td>\n",
       "      <td>4.93</td>\n",
       "      <td>5258.50</td>\n",
       "      <td>6.0</td>\n",
       "      <td>11596.0</td>\n",
       "      <td>0.0</td>\n",
       "      <td>10.0</td>\n",
       "      <td>...</td>\n",
       "      <td>0</td>\n",
       "      <td>0</td>\n",
       "      <td>0</td>\n",
       "      <td>0</td>\n",
       "      <td>0</td>\n",
       "      <td>0</td>\n",
       "      <td>0</td>\n",
       "      <td>0</td>\n",
       "      <td>0</td>\n",
       "      <td>712.0</td>\n",
       "    </tr>\n",
       "    <tr>\n",
       "      <th>2</th>\n",
       "      <td>7200.0</td>\n",
       "      <td>7200.0</td>\n",
       "      <td>unknown</td>\n",
       "      <td>60.0</td>\n",
       "      <td>25.16</td>\n",
       "      <td>3750.00</td>\n",
       "      <td>13.0</td>\n",
       "      <td>7283.0</td>\n",
       "      <td>0.0</td>\n",
       "      <td>6.0</td>\n",
       "      <td>...</td>\n",
       "      <td>0</td>\n",
       "      <td>0</td>\n",
       "      <td>0</td>\n",
       "      <td>0</td>\n",
       "      <td>0</td>\n",
       "      <td>0</td>\n",
       "      <td>0</td>\n",
       "      <td>0</td>\n",
       "      <td>0</td>\n",
       "      <td>752.0</td>\n",
       "    </tr>\n",
       "    <tr>\n",
       "      <th>3</th>\n",
       "      <td>7200.0</td>\n",
       "      <td>7200.0</td>\n",
       "      <td>unknown</td>\n",
       "      <td>36.0</td>\n",
       "      <td>17.27</td>\n",
       "      <td>3416.67</td>\n",
       "      <td>14.0</td>\n",
       "      <td>4838.0</td>\n",
       "      <td>0.0</td>\n",
       "      <td>10.0</td>\n",
       "      <td>...</td>\n",
       "      <td>0</td>\n",
       "      <td>0</td>\n",
       "      <td>0</td>\n",
       "      <td>0</td>\n",
       "      <td>0</td>\n",
       "      <td>0</td>\n",
       "      <td>0</td>\n",
       "      <td>0</td>\n",
       "      <td>0</td>\n",
       "      <td>792.0</td>\n",
       "    </tr>\n",
       "    <tr>\n",
       "      <th>4</th>\n",
       "      <td>22000.0</td>\n",
       "      <td>22000.0</td>\n",
       "      <td>unknown</td>\n",
       "      <td>60.0</td>\n",
       "      <td>18.28</td>\n",
       "      <td>6083.33</td>\n",
       "      <td>9.0</td>\n",
       "      <td>20181.0</td>\n",
       "      <td>0.0</td>\n",
       "      <td>8.0</td>\n",
       "      <td>...</td>\n",
       "      <td>0</td>\n",
       "      <td>0</td>\n",
       "      <td>0</td>\n",
       "      <td>0</td>\n",
       "      <td>0</td>\n",
       "      <td>0</td>\n",
       "      <td>0</td>\n",
       "      <td>0</td>\n",
       "      <td>0</td>\n",
       "      <td>722.0</td>\n",
       "    </tr>\n",
       "    <tr>\n",
       "      <th>...</th>\n",
       "      <td>...</td>\n",
       "      <td>...</td>\n",
       "      <td>...</td>\n",
       "      <td>...</td>\n",
       "      <td>...</td>\n",
       "      <td>...</td>\n",
       "      <td>...</td>\n",
       "      <td>...</td>\n",
       "      <td>...</td>\n",
       "      <td>...</td>\n",
       "      <td>...</td>\n",
       "      <td>...</td>\n",
       "      <td>...</td>\n",
       "      <td>...</td>\n",
       "      <td>...</td>\n",
       "      <td>...</td>\n",
       "      <td>...</td>\n",
       "      <td>...</td>\n",
       "      <td>...</td>\n",
       "      <td>...</td>\n",
       "      <td>...</td>\n",
       "    </tr>\n",
       "    <tr>\n",
       "      <th>295</th>\n",
       "      <td>12000.0</td>\n",
       "      <td>11975.0</td>\n",
       "      <td>unknown</td>\n",
       "      <td>60.0</td>\n",
       "      <td>13.91</td>\n",
       "      <td>7083.33</td>\n",
       "      <td>7.0</td>\n",
       "      <td>3923.0</td>\n",
       "      <td>2.0</td>\n",
       "      <td>7.0</td>\n",
       "      <td>...</td>\n",
       "      <td>0</td>\n",
       "      <td>0</td>\n",
       "      <td>0</td>\n",
       "      <td>0</td>\n",
       "      <td>0</td>\n",
       "      <td>0</td>\n",
       "      <td>0</td>\n",
       "      <td>0</td>\n",
       "      <td>0</td>\n",
       "      <td>707.0</td>\n",
       "    </tr>\n",
       "    <tr>\n",
       "      <th>296</th>\n",
       "      <td>5000.0</td>\n",
       "      <td>5000.0</td>\n",
       "      <td>unknown</td>\n",
       "      <td>36.0</td>\n",
       "      <td>17.22</td>\n",
       "      <td>4000.00</td>\n",
       "      <td>10.0</td>\n",
       "      <td>6023.0</td>\n",
       "      <td>0.0</td>\n",
       "      <td>10.0</td>\n",
       "      <td>...</td>\n",
       "      <td>0</td>\n",
       "      <td>0</td>\n",
       "      <td>0</td>\n",
       "      <td>0</td>\n",
       "      <td>0</td>\n",
       "      <td>0</td>\n",
       "      <td>0</td>\n",
       "      <td>0</td>\n",
       "      <td>0</td>\n",
       "      <td>707.0</td>\n",
       "    </tr>\n",
       "    <tr>\n",
       "      <th>297</th>\n",
       "      <td>4375.0</td>\n",
       "      <td>4375.0</td>\n",
       "      <td>unknown</td>\n",
       "      <td>36.0</td>\n",
       "      <td>9.09</td>\n",
       "      <td>2916.67</td>\n",
       "      <td>9.0</td>\n",
       "      <td>6944.0</td>\n",
       "      <td>2.0</td>\n",
       "      <td>6.0</td>\n",
       "      <td>...</td>\n",
       "      <td>0</td>\n",
       "      <td>0</td>\n",
       "      <td>0</td>\n",
       "      <td>0</td>\n",
       "      <td>0</td>\n",
       "      <td>0</td>\n",
       "      <td>0</td>\n",
       "      <td>0</td>\n",
       "      <td>0</td>\n",
       "      <td>672.0</td>\n",
       "    </tr>\n",
       "    <tr>\n",
       "      <th>298</th>\n",
       "      <td>13600.0</td>\n",
       "      <td>13600.0</td>\n",
       "      <td>unknown</td>\n",
       "      <td>60.0</td>\n",
       "      <td>12.85</td>\n",
       "      <td>5651.33</td>\n",
       "      <td>13.0</td>\n",
       "      <td>24383.0</td>\n",
       "      <td>0.0</td>\n",
       "      <td>10.0</td>\n",
       "      <td>...</td>\n",
       "      <td>0</td>\n",
       "      <td>0</td>\n",
       "      <td>0</td>\n",
       "      <td>0</td>\n",
       "      <td>0</td>\n",
       "      <td>0</td>\n",
       "      <td>0</td>\n",
       "      <td>0</td>\n",
       "      <td>0</td>\n",
       "      <td>677.0</td>\n",
       "    </tr>\n",
       "    <tr>\n",
       "      <th>299</th>\n",
       "      <td>6000.0</td>\n",
       "      <td>6000.0</td>\n",
       "      <td>unknown</td>\n",
       "      <td>36.0</td>\n",
       "      <td>7.64</td>\n",
       "      <td>5184.75</td>\n",
       "      <td>8.0</td>\n",
       "      <td>14422.0</td>\n",
       "      <td>0.0</td>\n",
       "      <td>2.0</td>\n",
       "      <td>...</td>\n",
       "      <td>0</td>\n",
       "      <td>0</td>\n",
       "      <td>0</td>\n",
       "      <td>0</td>\n",
       "      <td>0</td>\n",
       "      <td>0</td>\n",
       "      <td>0</td>\n",
       "      <td>0</td>\n",
       "      <td>0</td>\n",
       "      <td>677.0</td>\n",
       "    </tr>\n",
       "  </tbody>\n",
       "</table>\n",
       "<p>296 rows × 30 columns</p>\n",
       "</div>"
      ],
      "text/plain": [
       "     Amount.Requested  Amount.Funded.By.Investors Interest.Rate  Loan.Length  \\\n",
       "0              5000.0                      5000.0       unknown         60.0   \n",
       "1             18000.0                     18000.0       unknown         60.0   \n",
       "2              7200.0                      7200.0       unknown         60.0   \n",
       "3              7200.0                      7200.0       unknown         36.0   \n",
       "4             22000.0                     22000.0       unknown         60.0   \n",
       "..                ...                         ...           ...          ...   \n",
       "295           12000.0                     11975.0       unknown         60.0   \n",
       "296            5000.0                      5000.0       unknown         36.0   \n",
       "297            4375.0                      4375.0       unknown         36.0   \n",
       "298           13600.0                     13600.0       unknown         60.0   \n",
       "299            6000.0                      6000.0       unknown         36.0   \n",
       "\n",
       "     Debt.To.Income.Ratio  Monthly.Income  Open.CREDIT.Lines  \\\n",
       "0                   12.59         4416.67               13.0   \n",
       "1                    4.93         5258.50                6.0   \n",
       "2                   25.16         3750.00               13.0   \n",
       "3                   17.27         3416.67               14.0   \n",
       "4                   18.28         6083.33                9.0   \n",
       "..                    ...             ...                ...   \n",
       "295                 13.91         7083.33                7.0   \n",
       "296                 17.22         4000.00               10.0   \n",
       "297                  9.09         2916.67                9.0   \n",
       "298                 12.85         5651.33               13.0   \n",
       "299                  7.64         5184.75                8.0   \n",
       "\n",
       "     Revolving.CREDIT.Balance  Inquiries.in.the.Last.6.Months  \\\n",
       "0                      7686.0                             0.0   \n",
       "1                     11596.0                             0.0   \n",
       "2                      7283.0                             0.0   \n",
       "3                      4838.0                             0.0   \n",
       "4                     20181.0                             0.0   \n",
       "..                        ...                             ...   \n",
       "295                    3923.0                             2.0   \n",
       "296                    6023.0                             0.0   \n",
       "297                    6944.0                             2.0   \n",
       "298                   24383.0                             0.0   \n",
       "299                   14422.0                             0.0   \n",
       "\n",
       "     Employment.Length  ...  Loan.Purpose_house  Loan.Purpose_major_purchase  \\\n",
       "0                  1.0  ...                   0                            0   \n",
       "1                 10.0  ...                   0                            0   \n",
       "2                  6.0  ...                   0                            0   \n",
       "3                 10.0  ...                   0                            0   \n",
       "4                  8.0  ...                   0                            0   \n",
       "..                 ...  ...                 ...                          ...   \n",
       "295                7.0  ...                   0                            0   \n",
       "296               10.0  ...                   0                            0   \n",
       "297                6.0  ...                   0                            0   \n",
       "298               10.0  ...                   0                            0   \n",
       "299                2.0  ...                   0                            0   \n",
       "\n",
       "     Loan.Purpose_medical  Loan.Purpose_moving  Loan.Purpose_other  \\\n",
       "0                       0                    1                   0   \n",
       "1                       0                    0                   0   \n",
       "2                       0                    0                   0   \n",
       "3                       0                    0                   0   \n",
       "4                       0                    0                   0   \n",
       "..                    ...                  ...                 ...   \n",
       "295                     0                    0                   0   \n",
       "296                     0                    0                   0   \n",
       "297                     0                    0                   0   \n",
       "298                     0                    0                   0   \n",
       "299                     0                    0                   0   \n",
       "\n",
       "     Loan.Purpose_renewable_energy  Loan.Purpose_small_business  \\\n",
       "0                                0                            0   \n",
       "1                                0                            0   \n",
       "2                                0                            0   \n",
       "3                                0                            0   \n",
       "4                                0                            0   \n",
       "..                             ...                          ...   \n",
       "295                              0                            0   \n",
       "296                              0                            0   \n",
       "297                              0                            0   \n",
       "298                              0                            0   \n",
       "299                              0                            0   \n",
       "\n",
       "     Loan.Purpose_vacation  Loan.Purpose_wedding  mean_fico  \n",
       "0                        0                     0      692.0  \n",
       "1                        0                     0      712.0  \n",
       "2                        0                     0      752.0  \n",
       "3                        0                     0      792.0  \n",
       "4                        0                     0      722.0  \n",
       "..                     ...                   ...        ...  \n",
       "295                      0                     0      707.0  \n",
       "296                      0                     0      707.0  \n",
       "297                      0                     0      672.0  \n",
       "298                      0                     0      677.0  \n",
       "299                      0                     0      677.0  \n",
       "\n",
       "[296 rows x 30 columns]"
      ]
     },
     "execution_count": 76,
     "metadata": {},
     "output_type": "execute_result"
    }
   ],
   "source": [
    "final_test_df"
   ]
  },
  {
   "cell_type": "code",
   "execution_count": 77,
   "metadata": {},
   "outputs": [],
   "source": [
    "final_train_df['Interest.Rate'] = final_train_df['Interest.Rate'].str.replace('%','')"
   ]
  },
  {
   "cell_type": "code",
   "execution_count": 78,
   "metadata": {},
   "outputs": [],
   "source": [
    "final_train_df['Interest.Rate'] = pd.to_numeric(final_train_df['Interest.Rate'])"
   ]
  },
  {
   "cell_type": "code",
   "execution_count": 79,
   "metadata": {},
   "outputs": [
    {
     "data": {
      "text/html": [
       "<div>\n",
       "<style scoped>\n",
       "    .dataframe tbody tr th:only-of-type {\n",
       "        vertical-align: middle;\n",
       "    }\n",
       "\n",
       "    .dataframe tbody tr th {\n",
       "        vertical-align: top;\n",
       "    }\n",
       "\n",
       "    .dataframe thead th {\n",
       "        text-align: right;\n",
       "    }\n",
       "</style>\n",
       "<table border=\"1\" class=\"dataframe\">\n",
       "  <thead>\n",
       "    <tr style=\"text-align: right;\">\n",
       "      <th></th>\n",
       "      <th>Amount.Requested</th>\n",
       "      <th>Amount.Funded.By.Investors</th>\n",
       "      <th>Interest.Rate</th>\n",
       "      <th>Loan.Length</th>\n",
       "      <th>Debt.To.Income.Ratio</th>\n",
       "      <th>Monthly.Income</th>\n",
       "      <th>Open.CREDIT.Lines</th>\n",
       "      <th>Revolving.CREDIT.Balance</th>\n",
       "      <th>Inquiries.in.the.Last.6.Months</th>\n",
       "      <th>Employment.Length</th>\n",
       "      <th>...</th>\n",
       "      <th>Loan.Purpose_house</th>\n",
       "      <th>Loan.Purpose_major_purchase</th>\n",
       "      <th>Loan.Purpose_medical</th>\n",
       "      <th>Loan.Purpose_moving</th>\n",
       "      <th>Loan.Purpose_other</th>\n",
       "      <th>Loan.Purpose_renewable_energy</th>\n",
       "      <th>Loan.Purpose_small_business</th>\n",
       "      <th>Loan.Purpose_vacation</th>\n",
       "      <th>Loan.Purpose_wedding</th>\n",
       "      <th>mean_fico</th>\n",
       "    </tr>\n",
       "  </thead>\n",
       "  <tbody>\n",
       "    <tr>\n",
       "      <th>0</th>\n",
       "      <td>25000.0</td>\n",
       "      <td>25000.00</td>\n",
       "      <td>18.49</td>\n",
       "      <td>60.0</td>\n",
       "      <td>27.56</td>\n",
       "      <td>8606.56</td>\n",
       "      <td>11.0</td>\n",
       "      <td>15210.0</td>\n",
       "      <td>3.0</td>\n",
       "      <td>5.0</td>\n",
       "      <td>...</td>\n",
       "      <td>0</td>\n",
       "      <td>0</td>\n",
       "      <td>0</td>\n",
       "      <td>0</td>\n",
       "      <td>0</td>\n",
       "      <td>0</td>\n",
       "      <td>0</td>\n",
       "      <td>0</td>\n",
       "      <td>0</td>\n",
       "      <td>722.0</td>\n",
       "    </tr>\n",
       "    <tr>\n",
       "      <th>1</th>\n",
       "      <td>19750.0</td>\n",
       "      <td>19750.00</td>\n",
       "      <td>17.27</td>\n",
       "      <td>60.0</td>\n",
       "      <td>13.39</td>\n",
       "      <td>6737.50</td>\n",
       "      <td>14.0</td>\n",
       "      <td>19070.0</td>\n",
       "      <td>3.0</td>\n",
       "      <td>4.0</td>\n",
       "      <td>...</td>\n",
       "      <td>0</td>\n",
       "      <td>0</td>\n",
       "      <td>0</td>\n",
       "      <td>0</td>\n",
       "      <td>0</td>\n",
       "      <td>0</td>\n",
       "      <td>0</td>\n",
       "      <td>0</td>\n",
       "      <td>0</td>\n",
       "      <td>712.0</td>\n",
       "    </tr>\n",
       "    <tr>\n",
       "      <th>2</th>\n",
       "      <td>2100.0</td>\n",
       "      <td>2100.00</td>\n",
       "      <td>14.33</td>\n",
       "      <td>36.0</td>\n",
       "      <td>3.50</td>\n",
       "      <td>1000.00</td>\n",
       "      <td>13.0</td>\n",
       "      <td>893.0</td>\n",
       "      <td>1.0</td>\n",
       "      <td>1.0</td>\n",
       "      <td>...</td>\n",
       "      <td>0</td>\n",
       "      <td>1</td>\n",
       "      <td>0</td>\n",
       "      <td>0</td>\n",
       "      <td>0</td>\n",
       "      <td>0</td>\n",
       "      <td>0</td>\n",
       "      <td>0</td>\n",
       "      <td>0</td>\n",
       "      <td>692.0</td>\n",
       "    </tr>\n",
       "    <tr>\n",
       "      <th>3</th>\n",
       "      <td>28000.0</td>\n",
       "      <td>28000.00</td>\n",
       "      <td>16.29</td>\n",
       "      <td>36.0</td>\n",
       "      <td>19.62</td>\n",
       "      <td>7083.33</td>\n",
       "      <td>12.0</td>\n",
       "      <td>38194.0</td>\n",
       "      <td>1.0</td>\n",
       "      <td>10.0</td>\n",
       "      <td>...</td>\n",
       "      <td>0</td>\n",
       "      <td>0</td>\n",
       "      <td>0</td>\n",
       "      <td>0</td>\n",
       "      <td>0</td>\n",
       "      <td>0</td>\n",
       "      <td>0</td>\n",
       "      <td>0</td>\n",
       "      <td>0</td>\n",
       "      <td>712.0</td>\n",
       "    </tr>\n",
       "    <tr>\n",
       "      <th>4</th>\n",
       "      <td>24250.0</td>\n",
       "      <td>17431.82</td>\n",
       "      <td>12.23</td>\n",
       "      <td>60.0</td>\n",
       "      <td>23.79</td>\n",
       "      <td>5833.33</td>\n",
       "      <td>6.0</td>\n",
       "      <td>31061.0</td>\n",
       "      <td>2.0</td>\n",
       "      <td>10.0</td>\n",
       "      <td>...</td>\n",
       "      <td>0</td>\n",
       "      <td>0</td>\n",
       "      <td>0</td>\n",
       "      <td>0</td>\n",
       "      <td>0</td>\n",
       "      <td>0</td>\n",
       "      <td>0</td>\n",
       "      <td>0</td>\n",
       "      <td>0</td>\n",
       "      <td>732.0</td>\n",
       "    </tr>\n",
       "    <tr>\n",
       "      <th>...</th>\n",
       "      <td>...</td>\n",
       "      <td>...</td>\n",
       "      <td>...</td>\n",
       "      <td>...</td>\n",
       "      <td>...</td>\n",
       "      <td>...</td>\n",
       "      <td>...</td>\n",
       "      <td>...</td>\n",
       "      <td>...</td>\n",
       "      <td>...</td>\n",
       "      <td>...</td>\n",
       "      <td>...</td>\n",
       "      <td>...</td>\n",
       "      <td>...</td>\n",
       "      <td>...</td>\n",
       "      <td>...</td>\n",
       "      <td>...</td>\n",
       "      <td>...</td>\n",
       "      <td>...</td>\n",
       "      <td>...</td>\n",
       "      <td>...</td>\n",
       "    </tr>\n",
       "    <tr>\n",
       "      <th>2195</th>\n",
       "      <td>30000.0</td>\n",
       "      <td>30000.00</td>\n",
       "      <td>23.28</td>\n",
       "      <td>60.0</td>\n",
       "      <td>12.10</td>\n",
       "      <td>7083.33</td>\n",
       "      <td>16.0</td>\n",
       "      <td>17969.0</td>\n",
       "      <td>1.0</td>\n",
       "      <td>10.0</td>\n",
       "      <td>...</td>\n",
       "      <td>0</td>\n",
       "      <td>0</td>\n",
       "      <td>0</td>\n",
       "      <td>0</td>\n",
       "      <td>1</td>\n",
       "      <td>0</td>\n",
       "      <td>0</td>\n",
       "      <td>0</td>\n",
       "      <td>0</td>\n",
       "      <td>677.0</td>\n",
       "    </tr>\n",
       "    <tr>\n",
       "      <th>2196</th>\n",
       "      <td>4200.0</td>\n",
       "      <td>4200.00</td>\n",
       "      <td>14.33</td>\n",
       "      <td>60.0</td>\n",
       "      <td>14.16</td>\n",
       "      <td>3850.00</td>\n",
       "      <td>4.0</td>\n",
       "      <td>5718.0</td>\n",
       "      <td>0.0</td>\n",
       "      <td>2.0</td>\n",
       "      <td>...</td>\n",
       "      <td>0</td>\n",
       "      <td>0</td>\n",
       "      <td>0</td>\n",
       "      <td>0</td>\n",
       "      <td>0</td>\n",
       "      <td>0</td>\n",
       "      <td>0</td>\n",
       "      <td>0</td>\n",
       "      <td>0</td>\n",
       "      <td>702.0</td>\n",
       "    </tr>\n",
       "    <tr>\n",
       "      <th>2197</th>\n",
       "      <td>19800.0</td>\n",
       "      <td>19775.00</td>\n",
       "      <td>15.31</td>\n",
       "      <td>60.0</td>\n",
       "      <td>15.03</td>\n",
       "      <td>6666.67</td>\n",
       "      <td>10.0</td>\n",
       "      <td>46879.0</td>\n",
       "      <td>3.0</td>\n",
       "      <td>6.0</td>\n",
       "      <td>...</td>\n",
       "      <td>0</td>\n",
       "      <td>0</td>\n",
       "      <td>0</td>\n",
       "      <td>0</td>\n",
       "      <td>0</td>\n",
       "      <td>0</td>\n",
       "      <td>0</td>\n",
       "      <td>0</td>\n",
       "      <td>0</td>\n",
       "      <td>677.0</td>\n",
       "    </tr>\n",
       "    <tr>\n",
       "      <th>2198</th>\n",
       "      <td>18000.0</td>\n",
       "      <td>18000.00</td>\n",
       "      <td>20.99</td>\n",
       "      <td>60.0</td>\n",
       "      <td>11.63</td>\n",
       "      <td>9051.83</td>\n",
       "      <td>5.0</td>\n",
       "      <td>32394.0</td>\n",
       "      <td>2.0</td>\n",
       "      <td>4.0</td>\n",
       "      <td>...</td>\n",
       "      <td>0</td>\n",
       "      <td>0</td>\n",
       "      <td>0</td>\n",
       "      <td>0</td>\n",
       "      <td>0</td>\n",
       "      <td>0</td>\n",
       "      <td>0</td>\n",
       "      <td>0</td>\n",
       "      <td>0</td>\n",
       "      <td>672.0</td>\n",
       "    </tr>\n",
       "    <tr>\n",
       "      <th>2199</th>\n",
       "      <td>7550.0</td>\n",
       "      <td>7550.00</td>\n",
       "      <td>10.16</td>\n",
       "      <td>36.0</td>\n",
       "      <td>3.83</td>\n",
       "      <td>8333.33</td>\n",
       "      <td>10.0</td>\n",
       "      <td>10204.0</td>\n",
       "      <td>0.0</td>\n",
       "      <td>2.0</td>\n",
       "      <td>...</td>\n",
       "      <td>0</td>\n",
       "      <td>0</td>\n",
       "      <td>0</td>\n",
       "      <td>0</td>\n",
       "      <td>0</td>\n",
       "      <td>0</td>\n",
       "      <td>0</td>\n",
       "      <td>0</td>\n",
       "      <td>0</td>\n",
       "      <td>712.0</td>\n",
       "    </tr>\n",
       "  </tbody>\n",
       "</table>\n",
       "<p>2175 rows × 30 columns</p>\n",
       "</div>"
      ],
      "text/plain": [
       "      Amount.Requested  Amount.Funded.By.Investors  Interest.Rate  \\\n",
       "0              25000.0                    25000.00          18.49   \n",
       "1              19750.0                    19750.00          17.27   \n",
       "2               2100.0                     2100.00          14.33   \n",
       "3              28000.0                    28000.00          16.29   \n",
       "4              24250.0                    17431.82          12.23   \n",
       "...                ...                         ...            ...   \n",
       "2195           30000.0                    30000.00          23.28   \n",
       "2196            4200.0                     4200.00          14.33   \n",
       "2197           19800.0                    19775.00          15.31   \n",
       "2198           18000.0                    18000.00          20.99   \n",
       "2199            7550.0                     7550.00          10.16   \n",
       "\n",
       "      Loan.Length  Debt.To.Income.Ratio  Monthly.Income  Open.CREDIT.Lines  \\\n",
       "0            60.0                 27.56         8606.56               11.0   \n",
       "1            60.0                 13.39         6737.50               14.0   \n",
       "2            36.0                  3.50         1000.00               13.0   \n",
       "3            36.0                 19.62         7083.33               12.0   \n",
       "4            60.0                 23.79         5833.33                6.0   \n",
       "...           ...                   ...             ...                ...   \n",
       "2195         60.0                 12.10         7083.33               16.0   \n",
       "2196         60.0                 14.16         3850.00                4.0   \n",
       "2197         60.0                 15.03         6666.67               10.0   \n",
       "2198         60.0                 11.63         9051.83                5.0   \n",
       "2199         36.0                  3.83         8333.33               10.0   \n",
       "\n",
       "      Revolving.CREDIT.Balance  Inquiries.in.the.Last.6.Months  \\\n",
       "0                      15210.0                             3.0   \n",
       "1                      19070.0                             3.0   \n",
       "2                        893.0                             1.0   \n",
       "3                      38194.0                             1.0   \n",
       "4                      31061.0                             2.0   \n",
       "...                        ...                             ...   \n",
       "2195                   17969.0                             1.0   \n",
       "2196                    5718.0                             0.0   \n",
       "2197                   46879.0                             3.0   \n",
       "2198                   32394.0                             2.0   \n",
       "2199                   10204.0                             0.0   \n",
       "\n",
       "      Employment.Length  ...  Loan.Purpose_house  Loan.Purpose_major_purchase  \\\n",
       "0                   5.0  ...                   0                            0   \n",
       "1                   4.0  ...                   0                            0   \n",
       "2                   1.0  ...                   0                            1   \n",
       "3                  10.0  ...                   0                            0   \n",
       "4                  10.0  ...                   0                            0   \n",
       "...                 ...  ...                 ...                          ...   \n",
       "2195               10.0  ...                   0                            0   \n",
       "2196                2.0  ...                   0                            0   \n",
       "2197                6.0  ...                   0                            0   \n",
       "2198                4.0  ...                   0                            0   \n",
       "2199                2.0  ...                   0                            0   \n",
       "\n",
       "      Loan.Purpose_medical  Loan.Purpose_moving  Loan.Purpose_other  \\\n",
       "0                        0                    0                   0   \n",
       "1                        0                    0                   0   \n",
       "2                        0                    0                   0   \n",
       "3                        0                    0                   0   \n",
       "4                        0                    0                   0   \n",
       "...                    ...                  ...                 ...   \n",
       "2195                     0                    0                   1   \n",
       "2196                     0                    0                   0   \n",
       "2197                     0                    0                   0   \n",
       "2198                     0                    0                   0   \n",
       "2199                     0                    0                   0   \n",
       "\n",
       "      Loan.Purpose_renewable_energy  Loan.Purpose_small_business  \\\n",
       "0                                 0                            0   \n",
       "1                                 0                            0   \n",
       "2                                 0                            0   \n",
       "3                                 0                            0   \n",
       "4                                 0                            0   \n",
       "...                             ...                          ...   \n",
       "2195                              0                            0   \n",
       "2196                              0                            0   \n",
       "2197                              0                            0   \n",
       "2198                              0                            0   \n",
       "2199                              0                            0   \n",
       "\n",
       "      Loan.Purpose_vacation  Loan.Purpose_wedding  mean_fico  \n",
       "0                         0                     0      722.0  \n",
       "1                         0                     0      712.0  \n",
       "2                         0                     0      692.0  \n",
       "3                         0                     0      712.0  \n",
       "4                         0                     0      732.0  \n",
       "...                     ...                   ...        ...  \n",
       "2195                      0                     0      677.0  \n",
       "2196                      0                     0      702.0  \n",
       "2197                      0                     0      677.0  \n",
       "2198                      0                     0      672.0  \n",
       "2199                      0                     0      712.0  \n",
       "\n",
       "[2175 rows x 30 columns]"
      ]
     },
     "execution_count": 79,
     "metadata": {},
     "output_type": "execute_result"
    }
   ],
   "source": [
    "final_train_df"
   ]
  },
  {
   "cell_type": "code",
   "execution_count": 80,
   "metadata": {},
   "outputs": [],
   "source": [
    "# Dropping Interest rate from test data set\n",
    "final_test_df.drop('Interest.Rate',inplace = True, axis = 1)"
   ]
  },
  {
   "cell_type": "code",
   "execution_count": 81,
   "metadata": {},
   "outputs": [],
   "source": [
    "from sklearn.model_selection import train_test_split\n",
    "y = final_train_df['Interest.Rate']\n",
    "x = final_train_df.copy(deep = True)\n",
    "x.drop('Interest.Rate',inplace = True, axis = 1)"
   ]
  },
  {
   "cell_type": "code",
   "execution_count": 82,
   "metadata": {},
   "outputs": [],
   "source": [
    "from sklearn.preprocessing import MinMaxScaler"
   ]
  },
  {
   "cell_type": "code",
   "execution_count": 83,
   "metadata": {},
   "outputs": [],
   "source": [
    "cols = ['Amount.Requested', 'Amount.Funded.By.Investors', 'Loan.Length',\n",
    "       'Debt.To.Income.Ratio', 'Monthly.Income', 'Open.CREDIT.Lines',\n",
    "       'Revolving.CREDIT.Balance', 'Inquiries.in.the.Last.6.Months',\n",
    "       'Employment.Length', 'mean_fico']"
   ]
  },
  {
   "cell_type": "code",
   "execution_count": 84,
   "metadata": {},
   "outputs": [
    {
     "data": {
      "text/plain": [
       "MinMaxScaler()"
      ]
     },
     "execution_count": 84,
     "metadata": {},
     "output_type": "execute_result"
    }
   ],
   "source": [
    "scaler = MinMaxScaler()\n",
    "scaler.fit(x[cols])"
   ]
  },
  {
   "cell_type": "code",
   "execution_count": 85,
   "metadata": {},
   "outputs": [],
   "source": [
    "x[cols] = scaler.transform(x[cols])"
   ]
  },
  {
   "cell_type": "code",
   "execution_count": 86,
   "metadata": {},
   "outputs": [
    {
     "data": {
      "text/html": [
       "<div>\n",
       "<style scoped>\n",
       "    .dataframe tbody tr th:only-of-type {\n",
       "        vertical-align: middle;\n",
       "    }\n",
       "\n",
       "    .dataframe tbody tr th {\n",
       "        vertical-align: top;\n",
       "    }\n",
       "\n",
       "    .dataframe thead th {\n",
       "        text-align: right;\n",
       "    }\n",
       "</style>\n",
       "<table border=\"1\" class=\"dataframe\">\n",
       "  <thead>\n",
       "    <tr style=\"text-align: right;\">\n",
       "      <th></th>\n",
       "      <th>Amount.Requested</th>\n",
       "      <th>Amount.Funded.By.Investors</th>\n",
       "      <th>Loan.Length</th>\n",
       "      <th>Debt.To.Income.Ratio</th>\n",
       "      <th>Monthly.Income</th>\n",
       "      <th>Open.CREDIT.Lines</th>\n",
       "      <th>Revolving.CREDIT.Balance</th>\n",
       "      <th>Inquiries.in.the.Last.6.Months</th>\n",
       "      <th>Employment.Length</th>\n",
       "      <th>Home.Ownership_MORTGAGE</th>\n",
       "      <th>...</th>\n",
       "      <th>Loan.Purpose_house</th>\n",
       "      <th>Loan.Purpose_major_purchase</th>\n",
       "      <th>Loan.Purpose_medical</th>\n",
       "      <th>Loan.Purpose_moving</th>\n",
       "      <th>Loan.Purpose_other</th>\n",
       "      <th>Loan.Purpose_renewable_energy</th>\n",
       "      <th>Loan.Purpose_small_business</th>\n",
       "      <th>Loan.Purpose_vacation</th>\n",
       "      <th>Loan.Purpose_wedding</th>\n",
       "      <th>mean_fico</th>\n",
       "    </tr>\n",
       "  </thead>\n",
       "  <tbody>\n",
       "    <tr>\n",
       "      <th>count</th>\n",
       "      <td>2175.000000</td>\n",
       "      <td>2175.000000</td>\n",
       "      <td>2175.000000</td>\n",
       "      <td>2175.000000</td>\n",
       "      <td>2175.000000</td>\n",
       "      <td>2175.000000</td>\n",
       "      <td>2175.000000</td>\n",
       "      <td>2175.000000</td>\n",
       "      <td>2175.000000</td>\n",
       "      <td>2175.000000</td>\n",
       "      <td>...</td>\n",
       "      <td>2175.000000</td>\n",
       "      <td>2175.000000</td>\n",
       "      <td>2175.000000</td>\n",
       "      <td>2175.000000</td>\n",
       "      <td>2175.000000</td>\n",
       "      <td>2175.000000</td>\n",
       "      <td>2175.000000</td>\n",
       "      <td>2175.000000</td>\n",
       "      <td>2175.000000</td>\n",
       "      <td>2175.000000</td>\n",
       "    </tr>\n",
       "    <tr>\n",
       "      <th>mean</th>\n",
       "      <td>0.339120</td>\n",
       "      <td>0.346043</td>\n",
       "      <td>0.217931</td>\n",
       "      <td>0.441329</td>\n",
       "      <td>0.050296</td>\n",
       "      <td>0.224777</td>\n",
       "      <td>0.056760</td>\n",
       "      <td>0.099923</td>\n",
       "      <td>0.496952</td>\n",
       "      <td>0.462529</td>\n",
       "      <td>...</td>\n",
       "      <td>0.008736</td>\n",
       "      <td>0.037701</td>\n",
       "      <td>0.011954</td>\n",
       "      <td>0.011034</td>\n",
       "      <td>0.076782</td>\n",
       "      <td>0.001379</td>\n",
       "      <td>0.035402</td>\n",
       "      <td>0.008276</td>\n",
       "      <td>0.016092</td>\n",
       "      <td>0.347126</td>\n",
       "    </tr>\n",
       "    <tr>\n",
       "      <th>std</th>\n",
       "      <td>0.230562</td>\n",
       "      <td>0.222120</td>\n",
       "      <td>0.412935</td>\n",
       "      <td>0.214723</td>\n",
       "      <td>0.039975</td>\n",
       "      <td>0.124844</td>\n",
       "      <td>0.069317</td>\n",
       "      <td>0.135412</td>\n",
       "      <td>0.378704</td>\n",
       "      <td>0.498709</td>\n",
       "      <td>...</td>\n",
       "      <td>0.093077</td>\n",
       "      <td>0.190516</td>\n",
       "      <td>0.108704</td>\n",
       "      <td>0.104488</td>\n",
       "      <td>0.266306</td>\n",
       "      <td>0.037122</td>\n",
       "      <td>0.184837</td>\n",
       "      <td>0.090615</td>\n",
       "      <td>0.125858</td>\n",
       "      <td>0.184551</td>\n",
       "    </tr>\n",
       "    <tr>\n",
       "      <th>min</th>\n",
       "      <td>0.000000</td>\n",
       "      <td>0.000000</td>\n",
       "      <td>0.000000</td>\n",
       "      <td>0.000000</td>\n",
       "      <td>0.000000</td>\n",
       "      <td>0.000000</td>\n",
       "      <td>0.000000</td>\n",
       "      <td>0.000000</td>\n",
       "      <td>0.000000</td>\n",
       "      <td>0.000000</td>\n",
       "      <td>...</td>\n",
       "      <td>0.000000</td>\n",
       "      <td>0.000000</td>\n",
       "      <td>0.000000</td>\n",
       "      <td>0.000000</td>\n",
       "      <td>0.000000</td>\n",
       "      <td>0.000000</td>\n",
       "      <td>0.000000</td>\n",
       "      <td>0.000000</td>\n",
       "      <td>0.000000</td>\n",
       "      <td>0.000000</td>\n",
       "    </tr>\n",
       "    <tr>\n",
       "      <th>25%</th>\n",
       "      <td>0.151103</td>\n",
       "      <td>0.171429</td>\n",
       "      <td>0.000000</td>\n",
       "      <td>0.279576</td>\n",
       "      <td>0.027687</td>\n",
       "      <td>0.138889</td>\n",
       "      <td>0.020681</td>\n",
       "      <td>0.000000</td>\n",
       "      <td>0.111111</td>\n",
       "      <td>0.000000</td>\n",
       "      <td>...</td>\n",
       "      <td>0.000000</td>\n",
       "      <td>0.000000</td>\n",
       "      <td>0.000000</td>\n",
       "      <td>0.000000</td>\n",
       "      <td>0.000000</td>\n",
       "      <td>0.000000</td>\n",
       "      <td>0.000000</td>\n",
       "      <td>0.000000</td>\n",
       "      <td>0.000000</td>\n",
       "      <td>0.210526</td>\n",
       "    </tr>\n",
       "    <tr>\n",
       "      <th>50%</th>\n",
       "      <td>0.264706</td>\n",
       "      <td>0.285714</td>\n",
       "      <td>0.000000</td>\n",
       "      <td>0.436265</td>\n",
       "      <td>0.043182</td>\n",
       "      <td>0.194444</td>\n",
       "      <td>0.040735</td>\n",
       "      <td>0.000000</td>\n",
       "      <td>0.444444</td>\n",
       "      <td>0.000000</td>\n",
       "      <td>...</td>\n",
       "      <td>0.000000</td>\n",
       "      <td>0.000000</td>\n",
       "      <td>0.000000</td>\n",
       "      <td>0.000000</td>\n",
       "      <td>0.000000</td>\n",
       "      <td>0.000000</td>\n",
       "      <td>0.000000</td>\n",
       "      <td>0.000000</td>\n",
       "      <td>0.000000</td>\n",
       "      <td>0.315789</td>\n",
       "    </tr>\n",
       "    <tr>\n",
       "      <th>75%</th>\n",
       "      <td>0.470588</td>\n",
       "      <td>0.467143</td>\n",
       "      <td>0.000000</td>\n",
       "      <td>0.592953</td>\n",
       "      <td>0.061500</td>\n",
       "      <td>0.305556</td>\n",
       "      <td>0.069898</td>\n",
       "      <td>0.111111</td>\n",
       "      <td>1.000000</td>\n",
       "      <td>1.000000</td>\n",
       "      <td>...</td>\n",
       "      <td>0.000000</td>\n",
       "      <td>0.000000</td>\n",
       "      <td>0.000000</td>\n",
       "      <td>0.000000</td>\n",
       "      <td>0.000000</td>\n",
       "      <td>0.000000</td>\n",
       "      <td>0.000000</td>\n",
       "      <td>0.000000</td>\n",
       "      <td>0.000000</td>\n",
       "      <td>0.447368</td>\n",
       "    </tr>\n",
       "    <tr>\n",
       "      <th>max</th>\n",
       "      <td>1.000000</td>\n",
       "      <td>1.000000</td>\n",
       "      <td>1.000000</td>\n",
       "      <td>1.000000</td>\n",
       "      <td>1.000000</td>\n",
       "      <td>1.000000</td>\n",
       "      <td>1.000000</td>\n",
       "      <td>1.000000</td>\n",
       "      <td>1.000000</td>\n",
       "      <td>1.000000</td>\n",
       "      <td>...</td>\n",
       "      <td>1.000000</td>\n",
       "      <td>1.000000</td>\n",
       "      <td>1.000000</td>\n",
       "      <td>1.000000</td>\n",
       "      <td>1.000000</td>\n",
       "      <td>1.000000</td>\n",
       "      <td>1.000000</td>\n",
       "      <td>1.000000</td>\n",
       "      <td>1.000000</td>\n",
       "      <td>1.000000</td>\n",
       "    </tr>\n",
       "  </tbody>\n",
       "</table>\n",
       "<p>8 rows × 29 columns</p>\n",
       "</div>"
      ],
      "text/plain": [
       "       Amount.Requested  Amount.Funded.By.Investors  Loan.Length  \\\n",
       "count       2175.000000                 2175.000000  2175.000000   \n",
       "mean           0.339120                    0.346043     0.217931   \n",
       "std            0.230562                    0.222120     0.412935   \n",
       "min            0.000000                    0.000000     0.000000   \n",
       "25%            0.151103                    0.171429     0.000000   \n",
       "50%            0.264706                    0.285714     0.000000   \n",
       "75%            0.470588                    0.467143     0.000000   \n",
       "max            1.000000                    1.000000     1.000000   \n",
       "\n",
       "       Debt.To.Income.Ratio  Monthly.Income  Open.CREDIT.Lines  \\\n",
       "count           2175.000000     2175.000000        2175.000000   \n",
       "mean               0.441329        0.050296           0.224777   \n",
       "std                0.214723        0.039975           0.124844   \n",
       "min                0.000000        0.000000           0.000000   \n",
       "25%                0.279576        0.027687           0.138889   \n",
       "50%                0.436265        0.043182           0.194444   \n",
       "75%                0.592953        0.061500           0.305556   \n",
       "max                1.000000        1.000000           1.000000   \n",
       "\n",
       "       Revolving.CREDIT.Balance  Inquiries.in.the.Last.6.Months  \\\n",
       "count               2175.000000                     2175.000000   \n",
       "mean                   0.056760                        0.099923   \n",
       "std                    0.069317                        0.135412   \n",
       "min                    0.000000                        0.000000   \n",
       "25%                    0.020681                        0.000000   \n",
       "50%                    0.040735                        0.000000   \n",
       "75%                    0.069898                        0.111111   \n",
       "max                    1.000000                        1.000000   \n",
       "\n",
       "       Employment.Length  Home.Ownership_MORTGAGE  ...  Loan.Purpose_house  \\\n",
       "count        2175.000000              2175.000000  ...         2175.000000   \n",
       "mean            0.496952                 0.462529  ...            0.008736   \n",
       "std             0.378704                 0.498709  ...            0.093077   \n",
       "min             0.000000                 0.000000  ...            0.000000   \n",
       "25%             0.111111                 0.000000  ...            0.000000   \n",
       "50%             0.444444                 0.000000  ...            0.000000   \n",
       "75%             1.000000                 1.000000  ...            0.000000   \n",
       "max             1.000000                 1.000000  ...            1.000000   \n",
       "\n",
       "       Loan.Purpose_major_purchase  Loan.Purpose_medical  Loan.Purpose_moving  \\\n",
       "count                  2175.000000           2175.000000          2175.000000   \n",
       "mean                      0.037701              0.011954             0.011034   \n",
       "std                       0.190516              0.108704             0.104488   \n",
       "min                       0.000000              0.000000             0.000000   \n",
       "25%                       0.000000              0.000000             0.000000   \n",
       "50%                       0.000000              0.000000             0.000000   \n",
       "75%                       0.000000              0.000000             0.000000   \n",
       "max                       1.000000              1.000000             1.000000   \n",
       "\n",
       "       Loan.Purpose_other  Loan.Purpose_renewable_energy  \\\n",
       "count         2175.000000                    2175.000000   \n",
       "mean             0.076782                       0.001379   \n",
       "std              0.266306                       0.037122   \n",
       "min              0.000000                       0.000000   \n",
       "25%              0.000000                       0.000000   \n",
       "50%              0.000000                       0.000000   \n",
       "75%              0.000000                       0.000000   \n",
       "max              1.000000                       1.000000   \n",
       "\n",
       "       Loan.Purpose_small_business  Loan.Purpose_vacation  \\\n",
       "count                  2175.000000            2175.000000   \n",
       "mean                      0.035402               0.008276   \n",
       "std                       0.184837               0.090615   \n",
       "min                       0.000000               0.000000   \n",
       "25%                       0.000000               0.000000   \n",
       "50%                       0.000000               0.000000   \n",
       "75%                       0.000000               0.000000   \n",
       "max                       1.000000               1.000000   \n",
       "\n",
       "       Loan.Purpose_wedding    mean_fico  \n",
       "count           2175.000000  2175.000000  \n",
       "mean               0.016092     0.347126  \n",
       "std                0.125858     0.184551  \n",
       "min                0.000000     0.000000  \n",
       "25%                0.000000     0.210526  \n",
       "50%                0.000000     0.315789  \n",
       "75%                0.000000     0.447368  \n",
       "max                1.000000     1.000000  \n",
       "\n",
       "[8 rows x 29 columns]"
      ]
     },
     "execution_count": 86,
     "metadata": {},
     "output_type": "execute_result"
    }
   ],
   "source": [
    "x.describe()"
   ]
  },
  {
   "cell_type": "code",
   "execution_count": 87,
   "metadata": {},
   "outputs": [],
   "source": [
    "x_train,x_test,y_train,y_test = train_test_split(x,y,test_size = 0.20,random_state=42)"
   ]
  },
  {
   "cell_type": "code",
   "execution_count": 88,
   "metadata": {},
   "outputs": [],
   "source": [
    "from sklearn.linear_model import LinearRegression"
   ]
  },
  {
   "cell_type": "code",
   "execution_count": 89,
   "metadata": {},
   "outputs": [],
   "source": [
    "lr = LinearRegression()"
   ]
  },
  {
   "cell_type": "code",
   "execution_count": 90,
   "metadata": {},
   "outputs": [
    {
     "data": {
      "text/plain": [
       "LinearRegression()"
      ]
     },
     "execution_count": 90,
     "metadata": {},
     "output_type": "execute_result"
    }
   ],
   "source": [
    "lr.fit(x_train,y_train)"
   ]
  },
  {
   "cell_type": "code",
   "execution_count": 91,
   "metadata": {},
   "outputs": [
    {
     "data": {
      "text/plain": [
       "array([ 1.92620959e+00,  3.92699473e+00,  3.04618602e+00,  5.36896448e-02,\n",
       "       -2.61393771e+00, -1.33726333e+00, -6.12265812e-01,  3.10469488e+00,\n",
       "        2.12802365e-02, -2.94047196e+00,  6.21724894e-15, -1.23402876e+00,\n",
       "       -2.62084742e+00, -2.73094024e+00,  2.60073724e-02, -4.92907479e-01,\n",
       "       -3.94410511e-01,  1.76393052e-01, -1.99494085e-01, -3.93367924e-01,\n",
       "       -1.34027536e-01, -3.66444282e-01,  9.97065559e-01,  3.89671421e-01,\n",
       "        1.46588391e-01, -1.25084610e-01,  1.02932071e+00, -6.59310074e-01,\n",
       "       -1.63762159e+01])"
      ]
     },
     "execution_count": 91,
     "metadata": {},
     "output_type": "execute_result"
    }
   ],
   "source": [
    "lr.coef_"
   ]
  },
  {
   "cell_type": "code",
   "execution_count": 92,
   "metadata": {},
   "outputs": [
    {
     "data": {
      "text/plain": [
       "19.281669532878645"
      ]
     },
     "execution_count": 92,
     "metadata": {},
     "output_type": "execute_result"
    }
   ],
   "source": [
    "lr.intercept_"
   ]
  },
  {
   "cell_type": "code",
   "execution_count": 93,
   "metadata": {},
   "outputs": [
    {
     "data": {
      "text/plain": [
       "0.7707620845150309"
      ]
     },
     "execution_count": 93,
     "metadata": {},
     "output_type": "execute_result"
    }
   ],
   "source": [
    "# R2 score on training set\n",
    "lr.score(x_train,y_train)"
   ]
  },
  {
   "cell_type": "code",
   "execution_count": 94,
   "metadata": {},
   "outputs": [
    {
     "data": {
      "text/plain": [
       "0.7491576086063455"
      ]
     },
     "execution_count": 94,
     "metadata": {},
     "output_type": "execute_result"
    }
   ],
   "source": [
    "# R2 score on testing set\n",
    "lr.score(x_test,y_test)"
   ]
  },
  {
   "cell_type": "code",
   "execution_count": 95,
   "metadata": {},
   "outputs": [
    {
     "data": {
      "text/plain": [
       "Lasso(alpha=0.001)"
      ]
     },
     "execution_count": 95,
     "metadata": {},
     "output_type": "execute_result"
    }
   ],
   "source": [
    "# Lets try to apply regularization\n",
    "# L1 Regularisation\n",
    "\n",
    "from sklearn.linear_model import Lasso\n",
    "\n",
    "las = Lasso(alpha=0.001)\n",
    "las.fit(x_train,y_train)"
   ]
  },
  {
   "cell_type": "code",
   "execution_count": 96,
   "metadata": {},
   "outputs": [
    {
     "data": {
      "text/plain": [
       "array([ 1.85296344e+00,  3.88589094e+00,  3.06051353e+00,  4.77178544e-02,\n",
       "       -1.90569426e+00, -1.26832612e+00, -4.88342853e-01,  3.05096040e+00,\n",
       "        5.90368700e-03, -3.36747132e-01,  0.00000000e+00,  9.03554669e-01,\n",
       "       -0.00000000e+00, -1.14907980e-01,  9.78603816e-02, -3.29767626e-01,\n",
       "       -2.41185455e-01,  1.65277616e-01, -4.48239169e-02, -1.18956184e-01,\n",
       "       -0.00000000e+00, -1.50127622e-01,  1.05689237e+00,  5.14417473e-01,\n",
       "        0.00000000e+00,  0.00000000e+00,  1.02576997e+00, -4.59889258e-01,\n",
       "       -1.63444467e+01])"
      ]
     },
     "execution_count": 96,
     "metadata": {},
     "output_type": "execute_result"
    }
   ],
   "source": [
    "las.coef_"
   ]
  },
  {
   "cell_type": "code",
   "execution_count": 97,
   "metadata": {},
   "outputs": [
    {
     "data": {
      "text/plain": [
       "16.507456953707663"
      ]
     },
     "execution_count": 97,
     "metadata": {},
     "output_type": "execute_result"
    }
   ],
   "source": [
    "las.intercept_"
   ]
  },
  {
   "cell_type": "code",
   "execution_count": 98,
   "metadata": {},
   "outputs": [
    {
     "data": {
      "text/plain": [
       "0.7703943833291047"
      ]
     },
     "execution_count": 98,
     "metadata": {},
     "output_type": "execute_result"
    }
   ],
   "source": [
    "las.score(x_train,y_train)"
   ]
  },
  {
   "cell_type": "code",
   "execution_count": 99,
   "metadata": {},
   "outputs": [
    {
     "data": {
      "text/plain": [
       "0.7494368217282461"
      ]
     },
     "execution_count": 99,
     "metadata": {},
     "output_type": "execute_result"
    }
   ],
   "source": [
    "las.score(x_test,y_test)"
   ]
  },
  {
   "cell_type": "code",
   "execution_count": 100,
   "metadata": {},
   "outputs": [
    {
     "data": {
      "text/plain": [
       "Ridge(alpha=0.001)"
      ]
     },
     "execution_count": 100,
     "metadata": {},
     "output_type": "execute_result"
    }
   ],
   "source": [
    "from sklearn.linear_model import Ridge\n",
    "\n",
    "ridge = Ridge(alpha=0.001)\n",
    "ridge.fit(x_train,y_train)"
   ]
  },
  {
   "cell_type": "code",
   "execution_count": 101,
   "metadata": {},
   "outputs": [
    {
     "data": {
      "text/plain": [
       "array([  1.92645706,   3.92655277,   3.04620302,   0.05384309,\n",
       "        -2.61256134,  -1.33723531,  -0.61247025,   3.10463545,\n",
       "         0.02127507,  -2.93090636,   0.        ,  -1.22413227,\n",
       "        -2.61125167,  -2.72134712,   0.02597643,  -0.4928352 ,\n",
       "        -0.39437248,   0.17637293,  -0.19950325,  -0.393315  ,\n",
       "        -0.13404882,  -0.3664283 ,   0.99703457,   0.38968393,\n",
       "         0.14653079,  -0.12506147,   1.02922593,  -0.65926006,\n",
       "       -16.37589898])"
      ]
     },
     "execution_count": 101,
     "metadata": {},
     "output_type": "execute_result"
    }
   ],
   "source": [
    "ridge.coef_"
   ]
  },
  {
   "cell_type": "code",
   "execution_count": 102,
   "metadata": {},
   "outputs": [
    {
     "data": {
      "text/plain": [
       "19.271892874537556"
      ]
     },
     "execution_count": 102,
     "metadata": {},
     "output_type": "execute_result"
    }
   ],
   "source": [
    "ridge.intercept_"
   ]
  },
  {
   "cell_type": "code",
   "execution_count": 103,
   "metadata": {},
   "outputs": [
    {
     "data": {
      "text/plain": [
       "0.7707620811454691"
      ]
     },
     "execution_count": 103,
     "metadata": {},
     "output_type": "execute_result"
    }
   ],
   "source": [
    "ridge.score(x_train,y_train)"
   ]
  },
  {
   "cell_type": "code",
   "execution_count": 104,
   "metadata": {},
   "outputs": [
    {
     "data": {
      "text/plain": [
       "SGDRegressor()"
      ]
     },
     "execution_count": 104,
     "metadata": {},
     "output_type": "execute_result"
    }
   ],
   "source": [
    "from sklearn.linear_model import SGDRegressor\n",
    "sgd = SGDRegressor()\n",
    "sgd.fit(x_train,y_train)"
   ]
  },
  {
   "cell_type": "code",
   "execution_count": 105,
   "metadata": {},
   "outputs": [
    {
     "data": {
      "text/plain": [
       "0.765098762365969"
      ]
     },
     "execution_count": 105,
     "metadata": {},
     "output_type": "execute_result"
    }
   ],
   "source": [
    "sgd.score(x_train,y_train)"
   ]
  },
  {
   "cell_type": "code",
   "execution_count": 106,
   "metadata": {},
   "outputs": [
    {
     "data": {
      "text/plain": [
       "0.7454730333616941"
      ]
     },
     "execution_count": 106,
     "metadata": {},
     "output_type": "execute_result"
    }
   ],
   "source": [
    "sgd.score(x_test,y_test)"
   ]
  },
  {
   "cell_type": "markdown",
   "metadata": {},
   "source": [
    "### There is no significant Improvement after applying Regularisation"
   ]
  },
  {
   "cell_type": "code",
   "execution_count": 107,
   "metadata": {},
   "outputs": [],
   "source": [
    "from sklearn.metrics import mean_absolute_percentage_error"
   ]
  },
  {
   "cell_type": "code",
   "execution_count": 108,
   "metadata": {},
   "outputs": [],
   "source": [
    "y_pred_lr = lr.predict(x_test)"
   ]
  },
  {
   "cell_type": "code",
   "execution_count": 109,
   "metadata": {},
   "outputs": [
    {
     "data": {
      "text/plain": [
       "0.13738983008139158"
      ]
     },
     "execution_count": 109,
     "metadata": {},
     "output_type": "execute_result"
    }
   ],
   "source": [
    "mean_absolute_percentage_error(y_test,y_pred_lr)"
   ]
  },
  {
   "cell_type": "code",
   "execution_count": 110,
   "metadata": {},
   "outputs": [],
   "source": [
    "y_pred_las = las.predict(x_test)"
   ]
  },
  {
   "cell_type": "code",
   "execution_count": 111,
   "metadata": {},
   "outputs": [
    {
     "data": {
      "text/plain": [
       "0.1375669233616836"
      ]
     },
     "execution_count": 111,
     "metadata": {},
     "output_type": "execute_result"
    }
   ],
   "source": [
    "mean_absolute_percentage_error(y_test,y_pred_las)"
   ]
  },
  {
   "cell_type": "code",
   "execution_count": 112,
   "metadata": {},
   "outputs": [],
   "source": [
    "y_pred_ridge = ridge.predict(x_test)"
   ]
  },
  {
   "cell_type": "code",
   "execution_count": 113,
   "metadata": {},
   "outputs": [
    {
     "data": {
      "text/plain": [
       "0.1373906571173113"
      ]
     },
     "execution_count": 113,
     "metadata": {},
     "output_type": "execute_result"
    }
   ],
   "source": [
    "mean_absolute_percentage_error(y_test,y_pred_ridge)"
   ]
  },
  {
   "cell_type": "code",
   "execution_count": 114,
   "metadata": {},
   "outputs": [
    {
     "data": {
      "image/png": "[encoded data removed]",
      "text/plain": [
       "<Figure size 1440x1440 with 10 Axes>"
      ]
     },
     "metadata": {
      "needs_background": "light"
     },
     "output_type": "display_data"
    }
   ],
   "source": [
    "i = 1\n",
    "plt.figure(figsize = (20,20))\n",
    "for col in cols:\n",
    "    plt.subplot(5,2,i)\n",
    "    sns.distplot(x_train[col])\n",
    "    i += 1"
   ]
  },
  {
   "cell_type": "code",
   "execution_count": 115,
   "metadata": {},
   "outputs": [],
   "source": [
    "new_df = x.copy(deep = True)"
   ]
  },
  {
   "cell_type": "code",
   "execution_count": 116,
   "metadata": {},
   "outputs": [
    {
     "data": {
      "text/html": [
       "<div>\n",
       "<style scoped>\n",
       "    .dataframe tbody tr th:only-of-type {\n",
       "        vertical-align: middle;\n",
       "    }\n",
       "\n",
       "    .dataframe tbody tr th {\n",
       "        vertical-align: top;\n",
       "    }\n",
       "\n",
       "    .dataframe thead th {\n",
       "        text-align: right;\n",
       "    }\n",
       "</style>\n",
       "<table border=\"1\" class=\"dataframe\">\n",
       "  <thead>\n",
       "    <tr style=\"text-align: right;\">\n",
       "      <th></th>\n",
       "      <th>Amount.Requested</th>\n",
       "      <th>Amount.Funded.By.Investors</th>\n",
       "      <th>Loan.Length</th>\n",
       "      <th>Debt.To.Income.Ratio</th>\n",
       "      <th>Monthly.Income</th>\n",
       "      <th>Open.CREDIT.Lines</th>\n",
       "      <th>Revolving.CREDIT.Balance</th>\n",
       "      <th>Inquiries.in.the.Last.6.Months</th>\n",
       "      <th>Employment.Length</th>\n",
       "      <th>Home.Ownership_MORTGAGE</th>\n",
       "      <th>...</th>\n",
       "      <th>Loan.Purpose_house</th>\n",
       "      <th>Loan.Purpose_major_purchase</th>\n",
       "      <th>Loan.Purpose_medical</th>\n",
       "      <th>Loan.Purpose_moving</th>\n",
       "      <th>Loan.Purpose_other</th>\n",
       "      <th>Loan.Purpose_renewable_energy</th>\n",
       "      <th>Loan.Purpose_small_business</th>\n",
       "      <th>Loan.Purpose_vacation</th>\n",
       "      <th>Loan.Purpose_wedding</th>\n",
       "      <th>mean_fico</th>\n",
       "    </tr>\n",
       "  </thead>\n",
       "  <tbody>\n",
       "    <tr>\n",
       "      <th>0</th>\n",
       "      <td>0.705882</td>\n",
       "      <td>0.714286</td>\n",
       "      <td>1.0</td>\n",
       "      <td>0.789459</td>\n",
       "      <td>0.078484</td>\n",
       "      <td>0.250000</td>\n",
       "      <td>0.056167</td>\n",
       "      <td>0.333333</td>\n",
       "      <td>0.444444</td>\n",
       "      <td>1</td>\n",
       "      <td>...</td>\n",
       "      <td>0</td>\n",
       "      <td>0</td>\n",
       "      <td>0</td>\n",
       "      <td>0</td>\n",
       "      <td>0</td>\n",
       "      <td>0</td>\n",
       "      <td>0</td>\n",
       "      <td>0</td>\n",
       "      <td>0</td>\n",
       "      <td>0.421053</td>\n",
       "    </tr>\n",
       "    <tr>\n",
       "      <th>1</th>\n",
       "      <td>0.551471</td>\n",
       "      <td>0.564286</td>\n",
       "      <td>1.0</td>\n",
       "      <td>0.383558</td>\n",
       "      <td>0.060189</td>\n",
       "      <td>0.333333</td>\n",
       "      <td>0.070421</td>\n",
       "      <td>0.333333</td>\n",
       "      <td>0.333333</td>\n",
       "      <td>1</td>\n",
       "      <td>...</td>\n",
       "      <td>0</td>\n",
       "      <td>0</td>\n",
       "      <td>0</td>\n",
       "      <td>0</td>\n",
       "      <td>0</td>\n",
       "      <td>0</td>\n",
       "      <td>0</td>\n",
       "      <td>0</td>\n",
       "      <td>0</td>\n",
       "      <td>0.368421</td>\n",
       "    </tr>\n",
       "    <tr>\n",
       "      <th>2</th>\n",
       "      <td>0.032353</td>\n",
       "      <td>0.060000</td>\n",
       "      <td>0.0</td>\n",
       "      <td>0.100258</td>\n",
       "      <td>0.004028</td>\n",
       "      <td>0.305556</td>\n",
       "      <td>0.003298</td>\n",
       "      <td>0.111111</td>\n",
       "      <td>0.000000</td>\n",
       "      <td>0</td>\n",
       "      <td>...</td>\n",
       "      <td>0</td>\n",
       "      <td>1</td>\n",
       "      <td>0</td>\n",
       "      <td>0</td>\n",
       "      <td>0</td>\n",
       "      <td>0</td>\n",
       "      <td>0</td>\n",
       "      <td>0</td>\n",
       "      <td>0</td>\n",
       "      <td>0.263158</td>\n",
       "    </tr>\n",
       "    <tr>\n",
       "      <th>3</th>\n",
       "      <td>0.794118</td>\n",
       "      <td>0.800000</td>\n",
       "      <td>0.0</td>\n",
       "      <td>0.562017</td>\n",
       "      <td>0.063574</td>\n",
       "      <td>0.277778</td>\n",
       "      <td>0.141041</td>\n",
       "      <td>0.111111</td>\n",
       "      <td>1.000000</td>\n",
       "      <td>1</td>\n",
       "      <td>...</td>\n",
       "      <td>0</td>\n",
       "      <td>0</td>\n",
       "      <td>0</td>\n",
       "      <td>0</td>\n",
       "      <td>0</td>\n",
       "      <td>0</td>\n",
       "      <td>0</td>\n",
       "      <td>0</td>\n",
       "      <td>0</td>\n",
       "      <td>0.368421</td>\n",
       "    </tr>\n",
       "    <tr>\n",
       "      <th>4</th>\n",
       "      <td>0.683824</td>\n",
       "      <td>0.498052</td>\n",
       "      <td>1.0</td>\n",
       "      <td>0.681467</td>\n",
       "      <td>0.051339</td>\n",
       "      <td>0.111111</td>\n",
       "      <td>0.114701</td>\n",
       "      <td>0.222222</td>\n",
       "      <td>1.000000</td>\n",
       "      <td>1</td>\n",
       "      <td>...</td>\n",
       "      <td>0</td>\n",
       "      <td>0</td>\n",
       "      <td>0</td>\n",
       "      <td>0</td>\n",
       "      <td>0</td>\n",
       "      <td>0</td>\n",
       "      <td>0</td>\n",
       "      <td>0</td>\n",
       "      <td>0</td>\n",
       "      <td>0.473684</td>\n",
       "    </tr>\n",
       "  </tbody>\n",
       "</table>\n",
       "<p>5 rows × 29 columns</p>\n",
       "</div>"
      ],
      "text/plain": [
       "   Amount.Requested  Amount.Funded.By.Investors  Loan.Length  \\\n",
       "0          0.705882                    0.714286          1.0   \n",
       "1          0.551471                    0.564286          1.0   \n",
       "2          0.032353                    0.060000          0.0   \n",
       "3          0.794118                    0.800000          0.0   \n",
       "4          0.683824                    0.498052          1.0   \n",
       "\n",
       "   Debt.To.Income.Ratio  Monthly.Income  Open.CREDIT.Lines  \\\n",
       "0              0.789459        0.078484           0.250000   \n",
       "1              0.383558        0.060189           0.333333   \n",
       "2              0.100258        0.004028           0.305556   \n",
       "3              0.562017        0.063574           0.277778   \n",
       "4              0.681467        0.051339           0.111111   \n",
       "\n",
       "   Revolving.CREDIT.Balance  Inquiries.in.the.Last.6.Months  \\\n",
       "0                  0.056167                        0.333333   \n",
       "1                  0.070421                        0.333333   \n",
       "2                  0.003298                        0.111111   \n",
       "3                  0.141041                        0.111111   \n",
       "4                  0.114701                        0.222222   \n",
       "\n",
       "   Employment.Length  Home.Ownership_MORTGAGE  ...  Loan.Purpose_house  \\\n",
       "0           0.444444                        1  ...                   0   \n",
       "1           0.333333                        1  ...                   0   \n",
       "2           0.000000                        0  ...                   0   \n",
       "3           1.000000                        1  ...                   0   \n",
       "4           1.000000                        1  ...                   0   \n",
       "\n",
       "   Loan.Purpose_major_purchase  Loan.Purpose_medical  Loan.Purpose_moving  \\\n",
       "0                            0                     0                    0   \n",
       "1                            0                     0                    0   \n",
       "2                            1                     0                    0   \n",
       "3                            0                     0                    0   \n",
       "4                            0                     0                    0   \n",
       "\n",
       "   Loan.Purpose_other  Loan.Purpose_renewable_energy  \\\n",
       "0                   0                              0   \n",
       "1                   0                              0   \n",
       "2                   0                              0   \n",
       "3                   0                              0   \n",
       "4                   0                              0   \n",
       "\n",
       "   Loan.Purpose_small_business  Loan.Purpose_vacation  Loan.Purpose_wedding  \\\n",
       "0                            0                      0                     0   \n",
       "1                            0                      0                     0   \n",
       "2                            0                      0                     0   \n",
       "3                            0                      0                     0   \n",
       "4                            0                      0                     0   \n",
       "\n",
       "   mean_fico  \n",
       "0   0.421053  \n",
       "1   0.368421  \n",
       "2   0.263158  \n",
       "3   0.368421  \n",
       "4   0.473684  \n",
       "\n",
       "[5 rows x 29 columns]"
      ]
     },
     "execution_count": 116,
     "metadata": {},
     "output_type": "execute_result"
    }
   ],
   "source": [
    "new_df.head()"
   ]
  },
  {
   "cell_type": "code",
   "execution_count": 123,
   "metadata": {},
   "outputs": [],
   "source": [
    "y_new = final_train_df['Interest.Rate']\n",
    "x_new = final_train_df.copy(deep = True)\n",
    "x_new.drop('Interest.Rate',inplace = True, axis = 1)"
   ]
  },
  {
   "cell_type": "code",
   "execution_count": 126,
   "metadata": {},
   "outputs": [
    {
     "data": {
      "text/plain": [
       "1440       588.50\n",
       "1968       666.67\n",
       "1180       833.33\n",
       "425        866.67\n",
       "1859       884.90\n",
       "          ...    \n",
       "2098     25000.00\n",
       "712      27083.33\n",
       "803      39583.33\n",
       "516      65000.00\n",
       "1621    102750.00\n",
       "Name: Monthly.Income, Length: 2175, dtype: float64"
      ]
     },
     "execution_count": 126,
     "metadata": {},
     "output_type": "execute_result"
    }
   ],
   "source": [
    "x_new['Monthly.Income'].sort_values()   ### All values are +ve"
   ]
  },
  {
   "cell_type": "code",
   "execution_count": 117,
   "metadata": {},
   "outputs": [],
   "source": [
    "from sklearn import preprocessing"
   ]
  },
  {
   "cell_type": "code",
   "execution_count": 141,
   "metadata": {},
   "outputs": [],
   "source": [
    "pt = preprocessing.PowerTransformer(method = 'yeo-johnson')  # Works with +ve and -ve both\n",
    "x_new['Monthly.Income'] = pt.fit_transform(x_new[['Monthly.Income']])\n",
    "x_new['Revolving.CREDIT.Balance'] = pt.fit_transform(x_new[['Revolving.CREDIT.Balance']])\n",
    "x_new['Employment.Length'] = pt.fit_transform(x_new[['Employment.Length']])"
   ]
  },
  {
   "cell_type": "code",
   "execution_count": 135,
   "metadata": {},
   "outputs": [],
   "source": [
    "# Works with only +ve values\n",
    "# pt_box = preprocessing.PowerTransformer(method = 'box-cox')\n",
    "# test_box = pt_box.fit_transform(x_new[['Monthly.Income']])"
   ]
  },
  {
   "cell_type": "code",
   "execution_count": 142,
   "metadata": {},
   "outputs": [
    {
     "data": {
      "image/png": "[encoded data removed]",
      "text/plain": [
       "<Figure size 1440x1440 with 10 Axes>"
      ]
     },
     "metadata": {
      "needs_background": "light"
     },
     "output_type": "display_data"
    }
   ],
   "source": [
    "i = 1\n",
    "plt.figure(figsize = (20,20))\n",
    "for col in cols:\n",
    "    plt.subplot(5,2,i)\n",
    "    sns.distplot(x_new[col])\n",
    "    i += 1"
   ]
  },
  {
   "cell_type": "code",
   "execution_count": 149,
   "metadata": {},
   "outputs": [],
   "source": [
    "scaler = MinMaxScaler()\n",
    "x_new[cols] = scaler.fit_transform(x_new[cols])"
   ]
  },
  {
   "cell_type": "code",
   "execution_count": 150,
   "metadata": {},
   "outputs": [],
   "source": [
    "x_train_new,x_test_new,y_train_new,y_test_new = train_test_split(x_new,y_new,test_size = 0.20,random_state=35)"
   ]
  },
  {
   "cell_type": "code",
   "execution_count": 151,
   "metadata": {},
   "outputs": [
    {
     "data": {
      "text/plain": [
       "LinearRegression()"
      ]
     },
     "execution_count": 151,
     "metadata": {},
     "output_type": "execute_result"
    }
   ],
   "source": [
    "lr.fit(x_train_new,y_train_new)"
   ]
  },
  {
   "cell_type": "code",
   "execution_count": 152,
   "metadata": {},
   "outputs": [
    {
     "data": {
      "text/plain": [
       "0.7747114584226098"
      ]
     },
     "execution_count": 152,
     "metadata": {},
     "output_type": "execute_result"
    }
   ],
   "source": [
    "lr.score(x_train_new,y_train_new)"
   ]
  },
  {
   "cell_type": "code",
   "execution_count": null,
   "metadata": {},
   "outputs": [],
   "source": []
  },
  {
   "cell_type": "code",
   "execution_count": null,
   "metadata": {},
   "outputs": [],
   "source": []
  },
  {
   "cell_type": "code",
   "execution_count": null,
   "metadata": {},
   "outputs": [],
   "source": []
  }
 ],
 "metadata": {
  "kernelspec": {
   "display_name": "Python 3",
   "language": "python",
   "name": "python3"
  },
  "language_info": {
   "codemirror_mode": {
    "name": "ipython",
    "version": 3
   },
   "file_extension": ".py",
   "mimetype": "text/x-python",
   "name": "python",
   "nbconvert_exporter": "python",
   "pygments_lexer": "ipython3",
   "version": "3.8.5"
  }
 },
 "nbformat": 4,
 "nbformat_minor": 4
}
